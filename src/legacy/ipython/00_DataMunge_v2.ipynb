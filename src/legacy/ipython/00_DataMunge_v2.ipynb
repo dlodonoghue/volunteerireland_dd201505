{
 "cells": [
  {
   "cell_type": "markdown",
   "metadata": {},
   "source": [
    "# 00_DataMunge_v2\n",
    "\n",
    "Volunteer Ireland DataDive Spring 2015\n",
    "\n",
    "### Join tables into 2 separate indexes:\n",
    "## Opportunities -> Applications\n",
    "### and\n",
    "## Opportunities -> Placements"
   ]
  },
  {
   "cell_type": "code",
   "execution_count": 1,
   "metadata": {
    "collapsed": true
   },
   "outputs": [],
   "source": [
    "## Interactive magics - comment out if running from another script\n",
    "%matplotlib inline\n",
    "%qtconsole --colors=linux --ConsoleWidget.font_size=12 --ConsoleWidget.font_family='Consolas'"
   ]
  },
  {
   "cell_type": "code",
   "execution_count": 2,
   "metadata": {
    "collapsed": true
   },
   "outputs": [],
   "source": [
    "import sqlite3\n",
    "import string\n",
    "# import re\n",
    "import numpy as np\n",
    "import pandas as pd\n",
    "# import patsy as pt\n",
    "\n",
    "pd.set_option('display.mpl_style', 'default')\n",
    "pd.set_option('display.notebook_repr_html', True)\n",
    "np.random.seed(0)"
   ]
  },
  {
   "cell_type": "code",
   "execution_count": 32,
   "metadata": {
    "collapsed": true
   },
   "outputs": [],
   "source": [
    "cnx = sqlite3.connect('data/volunteerireland_datadive2015.db')"
   ]
  },
  {
   "cell_type": "markdown",
   "metadata": {},
   "source": [
    "# Read Data"
   ]
  },
  {
   "cell_type": "markdown",
   "metadata": {},
   "source": [
    "## Opportunities"
   ]
  },
  {
   "cell_type": "code",
   "execution_count": 4,
   "metadata": {
    "collapsed": false
   },
   "outputs": [
    {
     "name": "stdout",
     "output_type": "stream",
     "text": [
      "(35494, 29)\n"
     ]
    },
    {
     "data": {
      "text/html": [
       "<div style=\"max-height:1000px;max-width:1500px;overflow:auto;\">\n",
       "<table border=\"1\" class=\"dataframe\">\n",
       "  <thead>\n",
       "    <tr style=\"text-align: right;\">\n",
       "      <th></th>\n",
       "      <th>0</th>\n",
       "      <th>1</th>\n",
       "      <th>2</th>\n",
       "      <th>3</th>\n",
       "      <th>4</th>\n",
       "    </tr>\n",
       "  </thead>\n",
       "  <tbody>\n",
       "    <tr>\n",
       "      <th>opp_created_date</th>\n",
       "      <td>2015-05-14 00:00:00</td>\n",
       "      <td>2015-05-13 00:00:00</td>\n",
       "      <td>2015-05-12 00:00:00</td>\n",
       "      <td>2015-05-12 00:00:00</td>\n",
       "      <td>2015-05-12 00:00:00</td>\n",
       "    </tr>\n",
       "    <tr>\n",
       "      <th>opp_volunteer_opportunity_id</th>\n",
       "      <td>a00D000000a2hWM</td>\n",
       "      <td>a00D000000a2fnU</td>\n",
       "      <td>a00D000000a2ejO</td>\n",
       "      <td>a00D000000a2edf</td>\n",
       "      <td>a00D000000a2ecw</td>\n",
       "    </tr>\n",
       "    <tr>\n",
       "      <th>opp_organisation_id</th>\n",
       "      <td>001D000001hzVeF</td>\n",
       "      <td>001D000001hzHbI</td>\n",
       "      <td>001D000001hz3rh</td>\n",
       "      <td>001D000001hz1WN</td>\n",
       "      <td>001D000001hz175</td>\n",
       "    </tr>\n",
       "    <tr>\n",
       "      <th>opp_organisation_name</th>\n",
       "      <td>Involve Salthill</td>\n",
       "      <td>Bloom Fringe</td>\n",
       "      <td>Make-A-Wish Ireland</td>\n",
       "      <td>Knockatallon Community Development</td>\n",
       "      <td>Multiple Sclerosis Society of Ireland</td>\n",
       "    </tr>\n",
       "    <tr>\n",
       "      <th>opp_volunteer_opportunity_volunteer_opportunity</th>\n",
       "      <td>Cycle group leader</td>\n",
       "      <td>Festival Steward - City Centre</td>\n",
       "      <td>County Volunteer Wish Team</td>\n",
       "      <td>Road Marshalling for Fundraising Event</td>\n",
       "      <td>a companion to a person with multiple sclerosis</td>\n",
       "    </tr>\n",
       "    <tr>\n",
       "      <th>opp_activity_that_reflects_opportunity</th>\n",
       "      <td>Sports/out door activities/Coaching</td>\n",
       "      <td>Events and stewarding</td>\n",
       "      <td>Support and Key working</td>\n",
       "      <td>Events and stewarding</td>\n",
       "      <td>Befriending/Mentoring</td>\n",
       "    </tr>\n",
       "    <tr>\n",
       "      <th>opp_volunteer_bureau</th>\n",
       "      <td>Galway</td>\n",
       "      <td>Dublin City</td>\n",
       "      <td>Dun Laoghaire/Rathdown</td>\n",
       "      <td>Monaghan</td>\n",
       "      <td>Dublin City</td>\n",
       "    </tr>\n",
       "    <tr>\n",
       "      <th>opp_county</th>\n",
       "      <td>Galway</td>\n",
       "      <td>Dublin</td>\n",
       "      <td>Dublin</td>\n",
       "      <td>Monaghan</td>\n",
       "      <td>Dublin</td>\n",
       "    </tr>\n",
       "    <tr>\n",
       "      <th>opp_morning</th>\n",
       "      <td>NaN</td>\n",
       "      <td>Saturday</td>\n",
       "      <td>Monday; Tuesday; Wednesday; Thursday; Friday; ...</td>\n",
       "      <td>NaN</td>\n",
       "      <td>NaN</td>\n",
       "    </tr>\n",
       "    <tr>\n",
       "      <th>opp_afternoon</th>\n",
       "      <td>NaN</td>\n",
       "      <td>Saturday</td>\n",
       "      <td>Monday; Tuesday; Wednesday; Thursday; Friday; ...</td>\n",
       "      <td>NaN</td>\n",
       "      <td>Monday; Tuesday; Wednesday; Thursday; Friday; ...</td>\n",
       "    </tr>\n",
       "    <tr>\n",
       "      <th>opp_evenings</th>\n",
       "      <td>Monday; Tuesday; Wednesday; Thursday; Friday</td>\n",
       "      <td>Friday; Saturday</td>\n",
       "      <td>Monday; Tuesday; Wednesday; Thursday; Friday; ...</td>\n",
       "      <td>NaN</td>\n",
       "      <td>Monday; Tuesday; Wednesday; Thursday; Friday; ...</td>\n",
       "    </tr>\n",
       "    <tr>\n",
       "      <th>opp_level_of_english_required_for_role</th>\n",
       "      <td>Basic English</td>\n",
       "      <td>Intermediate English</td>\n",
       "      <td>NaN</td>\n",
       "      <td>Basic English</td>\n",
       "      <td>Intermediate English</td>\n",
       "    </tr>\n",
       "    <tr>\n",
       "      <th>opp_can_you_involve_volunteers_with</th>\n",
       "      <td>NaN</td>\n",
       "      <td>NaN</td>\n",
       "      <td>Physical Disability</td>\n",
       "      <td>NaN</td>\n",
       "      <td>Physical Disability</td>\n",
       "    </tr>\n",
       "    <tr>\n",
       "      <th>opp_age_restrictions_picklist</th>\n",
       "      <td>No age restrictions</td>\n",
       "      <td>Over 15</td>\n",
       "      <td>Over 23</td>\n",
       "      <td>Over 18</td>\n",
       "      <td>No age restrictions</td>\n",
       "    </tr>\n",
       "    <tr>\n",
       "      <th>opp_age_restrictions</th>\n",
       "      <td>NaN</td>\n",
       "      <td>NaN</td>\n",
       "      <td>NaN</td>\n",
       "      <td>NaN</td>\n",
       "      <td>NaN</td>\n",
       "    </tr>\n",
       "    <tr>\n",
       "      <th>opp_which_volunteer_supports_do_you_provide</th>\n",
       "      <td>Support/ advice/ recognition; Supervision; Ini...</td>\n",
       "      <td>NaN</td>\n",
       "      <td>Support/ advice/ recognition; Initial inductio...</td>\n",
       "      <td>Support/ advice/ recognition; Supervision; Ins...</td>\n",
       "      <td>Support/ advice/ recognition; Supervision; Ini...</td>\n",
       "    </tr>\n",
       "    <tr>\n",
       "      <th>opp_hours_per_week_required</th>\n",
       "      <td>2</td>\n",
       "      <td>NaN</td>\n",
       "      <td>NaN</td>\n",
       "      <td>NaN</td>\n",
       "      <td>1</td>\n",
       "    </tr>\n",
       "    <tr>\n",
       "      <th>opp_hours_per_week_required_recurrence</th>\n",
       "      <td>Weekly</td>\n",
       "      <td>Once off</td>\n",
       "      <td>NaN</td>\n",
       "      <td>NaN</td>\n",
       "      <td>Weekly</td>\n",
       "    </tr>\n",
       "    <tr>\n",
       "      <th>opp_minimum_commitment_required</th>\n",
       "      <td>3 months</td>\n",
       "      <td>Once Off</td>\n",
       "      <td>Flexible</td>\n",
       "      <td>NaN</td>\n",
       "      <td>1 year</td>\n",
       "    </tr>\n",
       "    <tr>\n",
       "      <th>opp_publish_direct_contact</th>\n",
       "      <td>0</td>\n",
       "      <td>1</td>\n",
       "      <td>0</td>\n",
       "      <td>0</td>\n",
       "      <td>0</td>\n",
       "    </tr>\n",
       "    <tr>\n",
       "      <th>opp_active</th>\n",
       "      <td>0</td>\n",
       "      <td>1</td>\n",
       "      <td>0</td>\n",
       "      <td>0</td>\n",
       "      <td>0</td>\n",
       "    </tr>\n",
       "    <tr>\n",
       "      <th>opp_number_of_volunteers_required</th>\n",
       "      <td>2</td>\n",
       "      <td>20</td>\n",
       "      <td>5</td>\n",
       "      <td>10</td>\n",
       "      <td>1</td>\n",
       "    </tr>\n",
       "    <tr>\n",
       "      <th>opp_automatic_de-activation_date</th>\n",
       "      <td>2015-06-30 00:00:00</td>\n",
       "      <td>2015-05-31 00:00:00</td>\n",
       "      <td>2016-07-16 00:00:00</td>\n",
       "      <td>2015-08-12 00:00:00</td>\n",
       "      <td>2015-08-12 00:00:00</td>\n",
       "    </tr>\n",
       "    <tr>\n",
       "      <th>opp_publish_date</th>\n",
       "      <td>NaN</td>\n",
       "      <td>2015-05-14 00:00:00</td>\n",
       "      <td>NaN</td>\n",
       "      <td>NaN</td>\n",
       "      <td>NaN</td>\n",
       "    </tr>\n",
       "    <tr>\n",
       "      <th>opp_skills_required</th>\n",
       "      <td>Fitness/ Health/ Beauty</td>\n",
       "      <td>Event management/ Fundraising; Personable Skills</td>\n",
       "      <td>Hospitality/ Befriending; Personable Skills; Y...</td>\n",
       "      <td>NaN</td>\n",
       "      <td>Personable Skills</td>\n",
       "    </tr>\n",
       "    <tr>\n",
       "      <th>opp_skills/qualities_necessary</th>\n",
       "      <td>Good communication skills; motivational skills...</td>\n",
       "      <td>No specific skills but a willingness to engage...</td>\n",
       "      <td>Skills required are friendly manner, listening...</td>\n",
       "      <td>NaN</td>\n",
       "      <td>someone who likes dogs! and could befriend the...</td>\n",
       "    </tr>\n",
       "    <tr>\n",
       "      <th>opp_suitable_for_corporates/groups</th>\n",
       "      <td>Yes</td>\n",
       "      <td>Yes</td>\n",
       "      <td>Yes</td>\n",
       "      <td>Yes</td>\n",
       "      <td>No</td>\n",
       "    </tr>\n",
       "    <tr>\n",
       "      <th>opp_benefits_to_volunteer</th>\n",
       "      <td>The volunteer will gain experience in both co-...</td>\n",
       "      <td>NaN</td>\n",
       "      <td>NaN</td>\n",
       "      <td>NaN</td>\n",
       "      <td>contact from a person living with multiple scl...</td>\n",
       "    </tr>\n",
       "    <tr>\n",
       "      <th>opp_id</th>\n",
       "      <td>0</td>\n",
       "      <td>1</td>\n",
       "      <td>2</td>\n",
       "      <td>3</td>\n",
       "      <td>4</td>\n",
       "    </tr>\n",
       "  </tbody>\n",
       "</table>\n",
       "</div>"
      ],
      "text/plain": [
       "                                                                                                 0  \\\n",
       "opp_created_date                                                               2015-05-14 00:00:00   \n",
       "opp_volunteer_opportunity_id                                                       a00D000000a2hWM   \n",
       "opp_organisation_id                                                                001D000001hzVeF   \n",
       "opp_organisation_name                                                             Involve Salthill   \n",
       "opp_volunteer_opportunity_volunteer_opportunity                                 Cycle group leader   \n",
       "opp_activity_that_reflects_opportunity                         Sports/out door activities/Coaching   \n",
       "opp_volunteer_bureau                                                                        Galway   \n",
       "opp_county                                                                                  Galway   \n",
       "opp_morning                                                                                    NaN   \n",
       "opp_afternoon                                                                                  NaN   \n",
       "opp_evenings                                          Monday; Tuesday; Wednesday; Thursday; Friday   \n",
       "opp_level_of_english_required_for_role                                               Basic English   \n",
       "opp_can_you_involve_volunteers_with                                                            NaN   \n",
       "opp_age_restrictions_picklist                                                  No age restrictions   \n",
       "opp_age_restrictions                                                                           NaN   \n",
       "opp_which_volunteer_supports_do_you_provide      Support/ advice/ recognition; Supervision; Ini...   \n",
       "opp_hours_per_week_required                                                                      2   \n",
       "opp_hours_per_week_required_recurrence                                                      Weekly   \n",
       "opp_minimum_commitment_required                                                           3 months   \n",
       "opp_publish_direct_contact                                                                       0   \n",
       "opp_active                                                                                       0   \n",
       "opp_number_of_volunteers_required                                                                2   \n",
       "opp_automatic_de-activation_date                                               2015-06-30 00:00:00   \n",
       "opp_publish_date                                                                               NaN   \n",
       "opp_skills_required                                                        Fitness/ Health/ Beauty   \n",
       "opp_skills/qualities_necessary                   Good communication skills; motivational skills...   \n",
       "opp_suitable_for_corporates/groups                                                             Yes   \n",
       "opp_benefits_to_volunteer                        The volunteer will gain experience in both co-...   \n",
       "opp_id                                                                                           0   \n",
       "\n",
       "                                                                                                 1  \\\n",
       "opp_created_date                                                               2015-05-13 00:00:00   \n",
       "opp_volunteer_opportunity_id                                                       a00D000000a2fnU   \n",
       "opp_organisation_id                                                                001D000001hzHbI   \n",
       "opp_organisation_name                                                                 Bloom Fringe   \n",
       "opp_volunteer_opportunity_volunteer_opportunity                     Festival Steward - City Centre   \n",
       "opp_activity_that_reflects_opportunity                                       Events and stewarding   \n",
       "opp_volunteer_bureau                                                                   Dublin City   \n",
       "opp_county                                                                                  Dublin   \n",
       "opp_morning                                                                               Saturday   \n",
       "opp_afternoon                                                                             Saturday   \n",
       "opp_evenings                                                                      Friday; Saturday   \n",
       "opp_level_of_english_required_for_role                                        Intermediate English   \n",
       "opp_can_you_involve_volunteers_with                                                            NaN   \n",
       "opp_age_restrictions_picklist                                                              Over 15   \n",
       "opp_age_restrictions                                                                           NaN   \n",
       "opp_which_volunteer_supports_do_you_provide                                                    NaN   \n",
       "opp_hours_per_week_required                                                                    NaN   \n",
       "opp_hours_per_week_required_recurrence                                                    Once off   \n",
       "opp_minimum_commitment_required                                                           Once Off   \n",
       "opp_publish_direct_contact                                                                       1   \n",
       "opp_active                                                                                       1   \n",
       "opp_number_of_volunteers_required                                                               20   \n",
       "opp_automatic_de-activation_date                                               2015-05-31 00:00:00   \n",
       "opp_publish_date                                                               2015-05-14 00:00:00   \n",
       "opp_skills_required                               Event management/ Fundraising; Personable Skills   \n",
       "opp_skills/qualities_necessary                   No specific skills but a willingness to engage...   \n",
       "opp_suitable_for_corporates/groups                                                             Yes   \n",
       "opp_benefits_to_volunteer                                                                      NaN   \n",
       "opp_id                                                                                           1   \n",
       "\n",
       "                                                                                                 2  \\\n",
       "opp_created_date                                                               2015-05-12 00:00:00   \n",
       "opp_volunteer_opportunity_id                                                       a00D000000a2ejO   \n",
       "opp_organisation_id                                                                001D000001hz3rh   \n",
       "opp_organisation_name                                                          Make-A-Wish Ireland   \n",
       "opp_volunteer_opportunity_volunteer_opportunity                         County Volunteer Wish Team   \n",
       "opp_activity_that_reflects_opportunity                                     Support and Key working   \n",
       "opp_volunteer_bureau                                                        Dun Laoghaire/Rathdown   \n",
       "opp_county                                                                                  Dublin   \n",
       "opp_morning                                      Monday; Tuesday; Wednesday; Thursday; Friday; ...   \n",
       "opp_afternoon                                    Monday; Tuesday; Wednesday; Thursday; Friday; ...   \n",
       "opp_evenings                                     Monday; Tuesday; Wednesday; Thursday; Friday; ...   \n",
       "opp_level_of_english_required_for_role                                                         NaN   \n",
       "opp_can_you_involve_volunteers_with                                            Physical Disability   \n",
       "opp_age_restrictions_picklist                                                              Over 23   \n",
       "opp_age_restrictions                                                                           NaN   \n",
       "opp_which_volunteer_supports_do_you_provide      Support/ advice/ recognition; Initial inductio...   \n",
       "opp_hours_per_week_required                                                                    NaN   \n",
       "opp_hours_per_week_required_recurrence                                                         NaN   \n",
       "opp_minimum_commitment_required                                                           Flexible   \n",
       "opp_publish_direct_contact                                                                       0   \n",
       "opp_active                                                                                       0   \n",
       "opp_number_of_volunteers_required                                                                5   \n",
       "opp_automatic_de-activation_date                                               2016-07-16 00:00:00   \n",
       "opp_publish_date                                                                               NaN   \n",
       "opp_skills_required                              Hospitality/ Befriending; Personable Skills; Y...   \n",
       "opp_skills/qualities_necessary                   Skills required are friendly manner, listening...   \n",
       "opp_suitable_for_corporates/groups                                                             Yes   \n",
       "opp_benefits_to_volunteer                                                                      NaN   \n",
       "opp_id                                                                                           2   \n",
       "\n",
       "                                                                                                 3  \\\n",
       "opp_created_date                                                               2015-05-12 00:00:00   \n",
       "opp_volunteer_opportunity_id                                                       a00D000000a2edf   \n",
       "opp_organisation_id                                                                001D000001hz1WN   \n",
       "opp_organisation_name                                           Knockatallon Community Development   \n",
       "opp_volunteer_opportunity_volunteer_opportunity             Road Marshalling for Fundraising Event   \n",
       "opp_activity_that_reflects_opportunity                                       Events and stewarding   \n",
       "opp_volunteer_bureau                                                                      Monaghan   \n",
       "opp_county                                                                                Monaghan   \n",
       "opp_morning                                                                                    NaN   \n",
       "opp_afternoon                                                                                  NaN   \n",
       "opp_evenings                                                                                   NaN   \n",
       "opp_level_of_english_required_for_role                                               Basic English   \n",
       "opp_can_you_involve_volunteers_with                                                            NaN   \n",
       "opp_age_restrictions_picklist                                                              Over 18   \n",
       "opp_age_restrictions                                                                           NaN   \n",
       "opp_which_volunteer_supports_do_you_provide      Support/ advice/ recognition; Supervision; Ins...   \n",
       "opp_hours_per_week_required                                                                    NaN   \n",
       "opp_hours_per_week_required_recurrence                                                         NaN   \n",
       "opp_minimum_commitment_required                                                                NaN   \n",
       "opp_publish_direct_contact                                                                       0   \n",
       "opp_active                                                                                       0   \n",
       "opp_number_of_volunteers_required                                                               10   \n",
       "opp_automatic_de-activation_date                                               2015-08-12 00:00:00   \n",
       "opp_publish_date                                                                               NaN   \n",
       "opp_skills_required                                                                            NaN   \n",
       "opp_skills/qualities_necessary                                                                 NaN   \n",
       "opp_suitable_for_corporates/groups                                                             Yes   \n",
       "opp_benefits_to_volunteer                                                                      NaN   \n",
       "opp_id                                                                                           3   \n",
       "\n",
       "                                                                                                 4  \n",
       "opp_created_date                                                               2015-05-12 00:00:00  \n",
       "opp_volunteer_opportunity_id                                                       a00D000000a2ecw  \n",
       "opp_organisation_id                                                                001D000001hz175  \n",
       "opp_organisation_name                                        Multiple Sclerosis Society of Ireland  \n",
       "opp_volunteer_opportunity_volunteer_opportunity    a companion to a person with multiple sclerosis  \n",
       "opp_activity_that_reflects_opportunity                                       Befriending/Mentoring  \n",
       "opp_volunteer_bureau                                                                   Dublin City  \n",
       "opp_county                                                                                  Dublin  \n",
       "opp_morning                                                                                    NaN  \n",
       "opp_afternoon                                    Monday; Tuesday; Wednesday; Thursday; Friday; ...  \n",
       "opp_evenings                                     Monday; Tuesday; Wednesday; Thursday; Friday; ...  \n",
       "opp_level_of_english_required_for_role                                        Intermediate English  \n",
       "opp_can_you_involve_volunteers_with                                            Physical Disability  \n",
       "opp_age_restrictions_picklist                                                  No age restrictions  \n",
       "opp_age_restrictions                                                                           NaN  \n",
       "opp_which_volunteer_supports_do_you_provide      Support/ advice/ recognition; Supervision; Ini...  \n",
       "opp_hours_per_week_required                                                                      1  \n",
       "opp_hours_per_week_required_recurrence                                                      Weekly  \n",
       "opp_minimum_commitment_required                                                             1 year  \n",
       "opp_publish_direct_contact                                                                       0  \n",
       "opp_active                                                                                       0  \n",
       "opp_number_of_volunteers_required                                                                1  \n",
       "opp_automatic_de-activation_date                                               2015-08-12 00:00:00  \n",
       "opp_publish_date                                                                               NaN  \n",
       "opp_skills_required                                                              Personable Skills  \n",
       "opp_skills/qualities_necessary                   someone who likes dogs! and could befriend the...  \n",
       "opp_suitable_for_corporates/groups                                                              No  \n",
       "opp_benefits_to_volunteer                        contact from a person living with multiple scl...  \n",
       "opp_id                                                                                           4  "
      ]
     },
     "execution_count": 4,
     "metadata": {},
     "output_type": "execute_result"
    }
   ],
   "source": [
    "dfoppsaltm = pd.read_excel('data/df_oppsaltm.xlsx') #dtype={'GEOGID':str,'GEOGTYPE':str,'GEOGDESC':str})\n",
    "dfoppsaltm.rename(columns=lambda x: 'opp_{}'.format('_'.join([y.strip(string.punctuation) for y in x.lower().split()])), inplace=True)\n",
    "dfoppsaltm['opp_id'] = np.arange(dfoppsaltm.shape[0])\n",
    "print(dfoppsaltm.shape)\n",
    "dfoppsaltm.head().T"
   ]
  },
  {
   "cell_type": "markdown",
   "metadata": {},
   "source": [
    "## Orgs"
   ]
  },
  {
   "cell_type": "code",
   "execution_count": 5,
   "metadata": {
    "collapsed": false
   },
   "outputs": [
    {
     "name": "stdout",
     "output_type": "stream",
     "text": [
      "(7764, 16)\n"
     ]
    },
    {
     "data": {
      "text/html": [
       "<div style=\"max-height:1000px;max-width:1500px;overflow:auto;\">\n",
       "<table border=\"1\" class=\"dataframe\">\n",
       "  <thead>\n",
       "    <tr style=\"text-align: right;\">\n",
       "      <th></th>\n",
       "      <th>org_created_date</th>\n",
       "      <th>org_organisation_id</th>\n",
       "      <th>org_organisation_name</th>\n",
       "      <th>org_county</th>\n",
       "      <th>org_local_area__dublin</th>\n",
       "      <th>org_aims_of_organisation</th>\n",
       "      <th>org_volunteer_bureau</th>\n",
       "      <th>org_organisation_status</th>\n",
       "      <th>org_cause_of_organisation</th>\n",
       "      <th>org_how_did_you_hear_about_our_service</th>\n",
       "      <th>org_which_best_describes_your_organisation</th>\n",
       "      <th>org_do_you_have_a_volunteer_policy</th>\n",
       "      <th>org_how_many_volunteers_do_you_involve</th>\n",
       "      <th>org_how_many_employees_are_in_your_org</th>\n",
       "      <th>org_how_do_you_manage_volunteers</th>\n",
       "      <th>org_id</th>\n",
       "    </tr>\n",
       "  </thead>\n",
       "  <tbody>\n",
       "    <tr>\n",
       "      <th>0</th>\n",
       "      <td>2012-12-18</td>\n",
       "      <td>001D000000zg6AQ</td>\n",
       "      <td>Cork Job Club</td>\n",
       "      <td>Cork</td>\n",
       "      <td>NaN</td>\n",
       "      <td>Cork Job Club aims to expand awareness and hel...</td>\n",
       "      <td>Cork</td>\n",
       "      <td>Active</td>\n",
       "      <td>Unemployment</td>\n",
       "      <td>Word of Mouth</td>\n",
       "      <td>Registered Charity</td>\n",
       "      <td>No</td>\n",
       "      <td>less than 5 people</td>\n",
       "      <td>less than 5 people</td>\n",
       "      <td>We have a paid member of staff who is a part-t...</td>\n",
       "      <td>0</td>\n",
       "    </tr>\n",
       "    <tr>\n",
       "      <th>1</th>\n",
       "      <td>2012-08-14</td>\n",
       "      <td>001D000000tvhyQ</td>\n",
       "      <td>Knocknaheeny/Hollyhill Justice Project</td>\n",
       "      <td>Cork</td>\n",
       "      <td>NaN</td>\n",
       "      <td>The project's main focus is as a Garda Youth D...</td>\n",
       "      <td>Cork</td>\n",
       "      <td>Active</td>\n",
       "      <td>Social Inclusion</td>\n",
       "      <td>Word of Mouth</td>\n",
       "      <td>Registered Charity</td>\n",
       "      <td>Yes</td>\n",
       "      <td>less than 5 people</td>\n",
       "      <td>less than 5 people</td>\n",
       "      <td>We have a paid member of staff who is a full-t...</td>\n",
       "      <td>1</td>\n",
       "    </tr>\n",
       "    <tr>\n",
       "      <th>2</th>\n",
       "      <td>2007-01-23</td>\n",
       "      <td>00120000004o3iu</td>\n",
       "      <td>Lough Parish Meals On Wheels</td>\n",
       "      <td>Cork</td>\n",
       "      <td>NaN</td>\n",
       "      <td>To provide meals on wheels mainly to the elder...</td>\n",
       "      <td>Cork</td>\n",
       "      <td>Active</td>\n",
       "      <td>Older People/Active Retired</td>\n",
       "      <td>Word of Mouth</td>\n",
       "      <td>Registered Charity</td>\n",
       "      <td>No</td>\n",
       "      <td>5-10 people</td>\n",
       "      <td>less than 5 people</td>\n",
       "      <td>We have a volunteer who is responsible for Vol...</td>\n",
       "      <td>2</td>\n",
       "    </tr>\n",
       "    <tr>\n",
       "      <th>3</th>\n",
       "      <td>2012-10-02</td>\n",
       "      <td>001D000000w8uw9</td>\n",
       "      <td>Focus Ireland - Cork branch</td>\n",
       "      <td>Cork</td>\n",
       "      <td>NaN</td>\n",
       "      <td>Focus Ireland works to prevent people becoming...</td>\n",
       "      <td>Cork</td>\n",
       "      <td>Active</td>\n",
       "      <td>Homelessness/ Housing</td>\n",
       "      <td>Word of Mouth</td>\n",
       "      <td>Registered Charity</td>\n",
       "      <td>Yes</td>\n",
       "      <td>We currently do not involve volunteers</td>\n",
       "      <td>5-10 people</td>\n",
       "      <td>We have a paid member of staff who is a full-t...</td>\n",
       "      <td>3</td>\n",
       "    </tr>\n",
       "    <tr>\n",
       "      <th>4</th>\n",
       "      <td>2008-05-14</td>\n",
       "      <td>0012000000A4dWS</td>\n",
       "      <td>Cork Sports Partnership</td>\n",
       "      <td>Cork</td>\n",
       "      <td>NaN</td>\n",
       "      <td>The mission of Cork Sports Partnership is to i...</td>\n",
       "      <td>Cork</td>\n",
       "      <td>Active</td>\n",
       "      <td>Sports/Outdoor activities</td>\n",
       "      <td>Word of Mouth</td>\n",
       "      <td>Non Profit without Charity Number</td>\n",
       "      <td>Yes</td>\n",
       "      <td>We currently do not involve volunteers</td>\n",
       "      <td>5-10 people</td>\n",
       "      <td>Volunteer Management is shared between staff a...</td>\n",
       "      <td>4</td>\n",
       "    </tr>\n",
       "  </tbody>\n",
       "</table>\n",
       "</div>"
      ],
      "text/plain": [
       "  org_created_date org_organisation_id  \\\n",
       "0       2012-12-18     001D000000zg6AQ   \n",
       "1       2012-08-14     001D000000tvhyQ   \n",
       "2       2007-01-23     00120000004o3iu   \n",
       "3       2012-10-02     001D000000w8uw9   \n",
       "4       2008-05-14     0012000000A4dWS   \n",
       "\n",
       "                    org_organisation_name org_county org_local_area__dublin  \\\n",
       "0                           Cork Job Club       Cork                    NaN   \n",
       "1  Knocknaheeny/Hollyhill Justice Project       Cork                    NaN   \n",
       "2            Lough Parish Meals On Wheels       Cork                    NaN   \n",
       "3             Focus Ireland - Cork branch       Cork                    NaN   \n",
       "4                 Cork Sports Partnership       Cork                    NaN   \n",
       "\n",
       "                            org_aims_of_organisation org_volunteer_bureau  \\\n",
       "0  Cork Job Club aims to expand awareness and hel...                 Cork   \n",
       "1  The project's main focus is as a Garda Youth D...                 Cork   \n",
       "2  To provide meals on wheels mainly to the elder...                 Cork   \n",
       "3  Focus Ireland works to prevent people becoming...                 Cork   \n",
       "4  The mission of Cork Sports Partnership is to i...                 Cork   \n",
       "\n",
       "  org_organisation_status    org_cause_of_organisation  \\\n",
       "0                  Active                 Unemployment   \n",
       "1                  Active             Social Inclusion   \n",
       "2                  Active  Older People/Active Retired   \n",
       "3                  Active        Homelessness/ Housing   \n",
       "4                  Active    Sports/Outdoor activities   \n",
       "\n",
       "  org_how_did_you_hear_about_our_service  \\\n",
       "0                          Word of Mouth   \n",
       "1                          Word of Mouth   \n",
       "2                          Word of Mouth   \n",
       "3                          Word of Mouth   \n",
       "4                          Word of Mouth   \n",
       "\n",
       "  org_which_best_describes_your_organisation  \\\n",
       "0                         Registered Charity   \n",
       "1                         Registered Charity   \n",
       "2                         Registered Charity   \n",
       "3                         Registered Charity   \n",
       "4          Non Profit without Charity Number   \n",
       "\n",
       "  org_do_you_have_a_volunteer_policy  org_how_many_volunteers_do_you_involve  \\\n",
       "0                                 No                      less than 5 people   \n",
       "1                                Yes                      less than 5 people   \n",
       "2                                 No                             5-10 people   \n",
       "3                                Yes  We currently do not involve volunteers   \n",
       "4                                Yes  We currently do not involve volunteers   \n",
       "\n",
       "  org_how_many_employees_are_in_your_org  \\\n",
       "0                     less than 5 people   \n",
       "1                     less than 5 people   \n",
       "2                     less than 5 people   \n",
       "3                            5-10 people   \n",
       "4                            5-10 people   \n",
       "\n",
       "                    org_how_do_you_manage_volunteers  org_id  \n",
       "0  We have a paid member of staff who is a part-t...       0  \n",
       "1  We have a paid member of staff who is a full-t...       1  \n",
       "2  We have a volunteer who is responsible for Vol...       2  \n",
       "3  We have a paid member of staff who is a full-t...       3  \n",
       "4  Volunteer Management is shared between staff a...       4  "
      ]
     },
     "execution_count": 5,
     "metadata": {},
     "output_type": "execute_result"
    }
   ],
   "source": [
    "dforgs = pd.read_excel('data/df_orgs.xlsx')\n",
    "dforgs.rename(columns=lambda x: 'org_{}'.format('_'.join([y.strip(string.punctuation) for y in x.lower().split()])), inplace=True)\n",
    "dforgs['org_id'] = np.arange(dforgs.shape[0])\n",
    "print(dforgs.shape)\n",
    "dforgs.head()"
   ]
  },
  {
   "cell_type": "markdown",
   "metadata": {},
   "source": [
    "## Applications"
   ]
  },
  {
   "cell_type": "code",
   "execution_count": 6,
   "metadata": {
    "collapsed": false
   },
   "outputs": [
    {
     "name": "stdout",
     "output_type": "stream",
     "text": [
      "(110612, 10)\n"
     ]
    },
    {
     "data": {
      "text/html": [
       "<div style=\"max-height:1000px;max-width:1500px;overflow:auto;\">\n",
       "<table border=\"1\" class=\"dataframe\">\n",
       "  <thead>\n",
       "    <tr style=\"text-align: right;\">\n",
       "      <th></th>\n",
       "      <th>app_volunteer_opportunity_applied_for_volunteer_opportunity_applied_for__name</th>\n",
       "      <th>app_volunteers_required</th>\n",
       "      <th>app_volunteer_opportunity_applied_for_created_date</th>\n",
       "      <th>app_volunteer_volunteer_id</th>\n",
       "      <th>app_volunteer_opportunity_applied_for_id</th>\n",
       "      <th>app_vop_name</th>\n",
       "      <th>app_volunteer_opportunity_applied_for</th>\n",
       "      <th>app_organisation_name</th>\n",
       "      <th>app_current_status_of_application</th>\n",
       "      <th>app_id</th>\n",
       "    </tr>\n",
       "  </thead>\n",
       "  <tbody>\n",
       "    <tr>\n",
       "      <th>0</th>\n",
       "      <td>2015-188435</td>\n",
       "      <td>1</td>\n",
       "      <td>2015-05-05</td>\n",
       "      <td>00QD000000r6Ni2</td>\n",
       "      <td>a04D000000aYWaQ</td>\n",
       "      <td>a00D000000LNaRk</td>\n",
       "      <td>Family Law Mediators</td>\n",
       "      <td>The Guardian Children's Project</td>\n",
       "      <td>Registered interest in this Opp</td>\n",
       "      <td>0</td>\n",
       "    </tr>\n",
       "    <tr>\n",
       "      <th>1</th>\n",
       "      <td>2015-188434</td>\n",
       "      <td>1</td>\n",
       "      <td>2015-05-05</td>\n",
       "      <td>00QD000000prM1r</td>\n",
       "      <td>a04D000000aYWaL</td>\n",
       "      <td>a00D000000a2Gym</td>\n",
       "      <td>Community Engagement Team Member</td>\n",
       "      <td>BlueFire</td>\n",
       "      <td>Registered interest in this Opp</td>\n",
       "      <td>1</td>\n",
       "    </tr>\n",
       "    <tr>\n",
       "      <th>2</th>\n",
       "      <td>2015-188433</td>\n",
       "      <td>4</td>\n",
       "      <td>2015-05-05</td>\n",
       "      <td>00QD000000QofvS</td>\n",
       "      <td>a04D000000aYWaG</td>\n",
       "      <td>a00D000000a2KoB</td>\n",
       "      <td>Darkness Into Light Walk 2015</td>\n",
       "      <td>Pieta House - Darkness into Light</td>\n",
       "      <td>Passed on details to organisation</td>\n",
       "      <td>2</td>\n",
       "    </tr>\n",
       "    <tr>\n",
       "      <th>3</th>\n",
       "      <td>2015-188432</td>\n",
       "      <td>5</td>\n",
       "      <td>2015-05-05</td>\n",
       "      <td>00QD000000r5HY5</td>\n",
       "      <td>a04D000000aYWaB</td>\n",
       "      <td>a00D000000WZTvk</td>\n",
       "      <td>Information Liason Officer</td>\n",
       "      <td>EnGage Kildare</td>\n",
       "      <td>Registered interest in this Opp</td>\n",
       "      <td>3</td>\n",
       "    </tr>\n",
       "    <tr>\n",
       "      <th>4</th>\n",
       "      <td>2015-188431</td>\n",
       "      <td>1</td>\n",
       "      <td>2015-05-05</td>\n",
       "      <td>00QD000000r6NO0</td>\n",
       "      <td>a04D000000aYWa6</td>\n",
       "      <td>a00D000000LLe1w</td>\n",
       "      <td>Douglas Tidy Towns Volunteer</td>\n",
       "      <td>Douglas Tidy Towns</td>\n",
       "      <td>Details of contact passed to volunteer</td>\n",
       "      <td>4</td>\n",
       "    </tr>\n",
       "  </tbody>\n",
       "</table>\n",
       "</div>"
      ],
      "text/plain": [
       "  app_volunteer_opportunity_applied_for_volunteer_opportunity_applied_for__name  \\\n",
       "0                                        2015-188435                              \n",
       "1                                        2015-188434                              \n",
       "2                                        2015-188433                              \n",
       "3                                        2015-188432                              \n",
       "4                                        2015-188431                              \n",
       "\n",
       "   app_volunteers_required app_volunteer_opportunity_applied_for_created_date  \\\n",
       "0                        1                                         2015-05-05   \n",
       "1                        1                                         2015-05-05   \n",
       "2                        4                                         2015-05-05   \n",
       "3                        5                                         2015-05-05   \n",
       "4                        1                                         2015-05-05   \n",
       "\n",
       "  app_volunteer_volunteer_id app_volunteer_opportunity_applied_for_id  \\\n",
       "0            00QD000000r6Ni2                          a04D000000aYWaQ   \n",
       "1            00QD000000prM1r                          a04D000000aYWaL   \n",
       "2            00QD000000QofvS                          a04D000000aYWaG   \n",
       "3            00QD000000r5HY5                          a04D000000aYWaB   \n",
       "4            00QD000000r6NO0                          a04D000000aYWa6   \n",
       "\n",
       "      app_vop_name app_volunteer_opportunity_applied_for  \\\n",
       "0  a00D000000LNaRk                  Family Law Mediators   \n",
       "1  a00D000000a2Gym      Community Engagement Team Member   \n",
       "2  a00D000000a2KoB         Darkness Into Light Walk 2015   \n",
       "3  a00D000000WZTvk            Information Liason Officer   \n",
       "4  a00D000000LLe1w          Douglas Tidy Towns Volunteer   \n",
       "\n",
       "               app_organisation_name       app_current_status_of_application  \\\n",
       "0    The Guardian Children's Project         Registered interest in this Opp   \n",
       "1                           BlueFire         Registered interest in this Opp   \n",
       "2  Pieta House - Darkness into Light       Passed on details to organisation   \n",
       "3                     EnGage Kildare         Registered interest in this Opp   \n",
       "4                 Douglas Tidy Towns  Details of contact passed to volunteer   \n",
       "\n",
       "   app_id  \n",
       "0       0  \n",
       "1       1  \n",
       "2       2  \n",
       "3       3  \n",
       "4       4  "
      ]
     },
     "execution_count": 6,
     "metadata": {},
     "output_type": "execute_result"
    }
   ],
   "source": [
    "dfoppsapfr = pd.read_excel('data/df_oppsapfr.xlsx')\n",
    "dfoppsapfr.rename(columns=lambda x: 'app_{}'.format('_'.join([y.strip(string.punctuation) for y in x.lower().split()])), inplace=True)\n",
    "dfoppsapfr['app_id'] = np.arange(dfoppsapfr.shape[0])\n",
    "print(dfoppsapfr.shape)\n",
    "dfoppsapfr.head()"
   ]
  },
  {
   "cell_type": "code",
   "execution_count": 7,
   "metadata": {
    "collapsed": false
   },
   "outputs": [],
   "source": [
    "# print(dfoppsapfr.loc[pd.isnull(dfoppsapfr['volunteer:_volunteer_id'])].shape)\n",
    "# dfoppsapfr.groupby(['volunteer:_volunteer_id']).size().order()[-20:]"
   ]
  },
  {
   "cell_type": "code",
   "execution_count": 8,
   "metadata": {
    "collapsed": false
   },
   "outputs": [],
   "source": [
    "# dfoppsapfr.groupby(['volunteer:_volunteer_id']).size().order().plot(figsize=(10,4))"
   ]
  },
  {
   "cell_type": "markdown",
   "metadata": {},
   "source": [
    "## Placements"
   ]
  },
  {
   "cell_type": "code",
   "execution_count": 9,
   "metadata": {
    "collapsed": false
   },
   "outputs": [
    {
     "name": "stdout",
     "output_type": "stream",
     "text": [
      "(39821, 12)\n"
     ]
    },
    {
     "data": {
      "text/html": [
       "<div style=\"max-height:1000px;max-width:1500px;overflow:auto;\">\n",
       "<table border=\"1\" class=\"dataframe\">\n",
       "  <thead>\n",
       "    <tr style=\"text-align: right;\">\n",
       "      <th></th>\n",
       "      <th>plc_place_volunteer_connector</th>\n",
       "      <th>plc_volunteer_id</th>\n",
       "      <th>plc_place_volunteer_id</th>\n",
       "      <th>plc_place_volunteer_created_date</th>\n",
       "      <th>plc_volunteer_opportunity_created_date</th>\n",
       "      <th>plc_volunteer_opportunity_record_id</th>\n",
       "      <th>plc_volunteer_registered_centre</th>\n",
       "      <th>plc_organisation</th>\n",
       "      <th>plc_volunteer_hours</th>\n",
       "      <th>plc_volunteer_opportunity_volunteer_centre</th>\n",
       "      <th>plc_volunteer_opportunity_volunteer_opportunity</th>\n",
       "      <th>plc_id</th>\n",
       "    </tr>\n",
       "  </thead>\n",
       "  <tbody>\n",
       "    <tr>\n",
       "      <th>0</th>\n",
       "      <td>v-10825</td>\n",
       "      <td>00Q2000000E7TXM</td>\n",
       "      <td>a012000000QQACg</td>\n",
       "      <td>2009-11-30</td>\n",
       "      <td>2007-10-30</td>\n",
       "      <td>a0020000004lHjP</td>\n",
       "      <td>Kildare</td>\n",
       "      <td>The Bridge CDP</td>\n",
       "      <td>104</td>\n",
       "      <td>Kildare</td>\n",
       "      <td>Homework Club Mentor CDP</td>\n",
       "      <td>0</td>\n",
       "    </tr>\n",
       "    <tr>\n",
       "      <th>1</th>\n",
       "      <td>v-33133</td>\n",
       "      <td>00QD000000ekhy5</td>\n",
       "      <td>a01D000000lWTIj</td>\n",
       "      <td>2013-10-14</td>\n",
       "      <td>2011-09-15</td>\n",
       "      <td>a00D000000IOigU</td>\n",
       "      <td>Offaly</td>\n",
       "      <td>Birr Mentality Handicapped Association</td>\n",
       "      <td>12</td>\n",
       "      <td>NaN</td>\n",
       "      <td>Support Worker</td>\n",
       "      <td>1</td>\n",
       "    </tr>\n",
       "    <tr>\n",
       "      <th>2</th>\n",
       "      <td>v-40009</td>\n",
       "      <td>00QD000000XHKN2</td>\n",
       "      <td>a01D000000rEETh</td>\n",
       "      <td>2014-11-18</td>\n",
       "      <td>2013-08-06</td>\n",
       "      <td>a00D000000Q5juz</td>\n",
       "      <td>Dun Laoghaire/Rathdown</td>\n",
       "      <td>Society of St. Vincent de Paul - SVP Dublin Re...</td>\n",
       "      <td>104</td>\n",
       "      <td>Dublin City</td>\n",
       "      <td>Volunteer for Society of Saint Vincent de Paul...</td>\n",
       "      <td>2</td>\n",
       "    </tr>\n",
       "    <tr>\n",
       "      <th>3</th>\n",
       "      <td>v-11012</td>\n",
       "      <td>00Q2000000E83Nm</td>\n",
       "      <td>a012000000QQTTv</td>\n",
       "      <td>2009-12-10</td>\n",
       "      <td>2009-05-08</td>\n",
       "      <td>a002000000AkGnM</td>\n",
       "      <td>Dun Laoghaire/Rathdown</td>\n",
       "      <td>Making Connections</td>\n",
       "      <td>20</td>\n",
       "      <td>NaN</td>\n",
       "      <td>Web Design</td>\n",
       "      <td>3</td>\n",
       "    </tr>\n",
       "    <tr>\n",
       "      <th>4</th>\n",
       "      <td>v-11994</td>\n",
       "      <td>00Q2000000BAHaT</td>\n",
       "      <td>a012000000Sapby</td>\n",
       "      <td>2010-03-09</td>\n",
       "      <td>2009-01-14</td>\n",
       "      <td>a0020000009dQuO</td>\n",
       "      <td>Sligo</td>\n",
       "      <td>Irish Therapy Dogs</td>\n",
       "      <td>52</td>\n",
       "      <td>Sligo</td>\n",
       "      <td>Pet Visitor</td>\n",
       "      <td>4</td>\n",
       "    </tr>\n",
       "  </tbody>\n",
       "</table>\n",
       "</div>"
      ],
      "text/plain": [
       "  plc_place_volunteer_connector plc_volunteer_id plc_place_volunteer_id  \\\n",
       "0                       v-10825  00Q2000000E7TXM        a012000000QQACg   \n",
       "1                       v-33133  00QD000000ekhy5        a01D000000lWTIj   \n",
       "2                       v-40009  00QD000000XHKN2        a01D000000rEETh   \n",
       "3                       v-11012  00Q2000000E83Nm        a012000000QQTTv   \n",
       "4                       v-11994  00Q2000000BAHaT        a012000000Sapby   \n",
       "\n",
       "  plc_place_volunteer_created_date plc_volunteer_opportunity_created_date  \\\n",
       "0                       2009-11-30                             2007-10-30   \n",
       "1                       2013-10-14                             2011-09-15   \n",
       "2                       2014-11-18                             2013-08-06   \n",
       "3                       2009-12-10                             2009-05-08   \n",
       "4                       2010-03-09                             2009-01-14   \n",
       "\n",
       "  plc_volunteer_opportunity_record_id plc_volunteer_registered_centre  \\\n",
       "0                     a0020000004lHjP                         Kildare   \n",
       "1                     a00D000000IOigU                          Offaly   \n",
       "2                     a00D000000Q5juz          Dun Laoghaire/Rathdown   \n",
       "3                     a002000000AkGnM          Dun Laoghaire/Rathdown   \n",
       "4                     a0020000009dQuO                           Sligo   \n",
       "\n",
       "                                    plc_organisation  plc_volunteer_hours  \\\n",
       "0                                     The Bridge CDP                  104   \n",
       "1             Birr Mentality Handicapped Association                   12   \n",
       "2  Society of St. Vincent de Paul - SVP Dublin Re...                  104   \n",
       "3                                 Making Connections                   20   \n",
       "4                                 Irish Therapy Dogs                   52   \n",
       "\n",
       "  plc_volunteer_opportunity_volunteer_centre  \\\n",
       "0                                    Kildare   \n",
       "1                                        NaN   \n",
       "2                                Dublin City   \n",
       "3                                        NaN   \n",
       "4                                      Sligo   \n",
       "\n",
       "     plc_volunteer_opportunity_volunteer_opportunity  plc_id  \n",
       "0                           Homework Club Mentor CDP       0  \n",
       "1                                     Support Worker       1  \n",
       "2  Volunteer for Society of Saint Vincent de Paul...       2  \n",
       "3                                         Web Design       3  \n",
       "4                                        Pet Visitor       4  "
      ]
     },
     "execution_count": 9,
     "metadata": {},
     "output_type": "execute_result"
    }
   ],
   "source": [
    "dfplc = pd.read_excel('data/df_plc.xlsx')\n",
    "dfplc.rename(columns=lambda x: 'plc_{}'.format('_'.join([y.strip(string.punctuation) for y in x.lower().split()])), inplace=True)\n",
    "dfplc['plc_id'] = np.arange(dfplc.shape[0])\n",
    "print(dfplc.shape)\n",
    "dfplc.head()"
   ]
  },
  {
   "cell_type": "markdown",
   "metadata": {},
   "source": [
    "## Volunteers"
   ]
  },
  {
   "cell_type": "code",
   "execution_count": 10,
   "metadata": {
    "collapsed": false
   },
   "outputs": [
    {
     "name": "stdout",
     "output_type": "stream",
     "text": [
      "(103035, 22)\n"
     ]
    },
    {
     "data": {
      "text/html": [
       "<div style=\"max-height:1000px;max-width:1500px;overflow:auto;\">\n",
       "<table border=\"1\" class=\"dataframe\">\n",
       "  <thead>\n",
       "    <tr style=\"text-align: right;\">\n",
       "      <th></th>\n",
       "      <th>vol_volunteer_id</th>\n",
       "      <th>vol_create_date</th>\n",
       "      <th>vol_how_long_do_you_wish_to_volunteer_for</th>\n",
       "      <th>vol_age_group</th>\n",
       "      <th>vol_why_do_you_want_to_volunteer_now</th>\n",
       "      <th>vol_volunteer_status</th>\n",
       "      <th>vol_method_of_contact_with_volunteer</th>\n",
       "      <th>vol_face_to_face</th>\n",
       "      <th>vol_gender</th>\n",
       "      <th>vol_nationality</th>\n",
       "      <th>...</th>\n",
       "      <th>vol_volunteered_before</th>\n",
       "      <th>vol_volunteer_bureau</th>\n",
       "      <th>vol_local_area__dublin</th>\n",
       "      <th>vol_volunteer_recruitment_method</th>\n",
       "      <th>vol_activity_you_are_interested_in</th>\n",
       "      <th>vol_cause_you_are_interested_in</th>\n",
       "      <th>vol_skills_qualities</th>\n",
       "      <th>vol_skills_profile</th>\n",
       "      <th>vol_county</th>\n",
       "      <th>vol_id</th>\n",
       "    </tr>\n",
       "  </thead>\n",
       "  <tbody>\n",
       "    <tr>\n",
       "      <th>0</th>\n",
       "      <td>00Q2000000E7wXL</td>\n",
       "      <td>2009-11-09</td>\n",
       "      <td>NaN</td>\n",
       "      <td>36-49</td>\n",
       "      <td>Recently made redundant</td>\n",
       "      <td>Registered</td>\n",
       "      <td>NaN</td>\n",
       "      <td>NaN</td>\n",
       "      <td>Male</td>\n",
       "      <td>Irish</td>\n",
       "      <td>...</td>\n",
       "      <td>No</td>\n",
       "      <td>Galway</td>\n",
       "      <td>NaN</td>\n",
       "      <td>Internet Search</td>\n",
       "      <td>NaN</td>\n",
       "      <td>NaN</td>\n",
       "      <td>Worked in computer support for over 11 years, ...</td>\n",
       "      <td>NaN</td>\n",
       "      <td>NaN</td>\n",
       "      <td>0</td>\n",
       "    </tr>\n",
       "    <tr>\n",
       "      <th>1</th>\n",
       "      <td>00Q2000000Hl336</td>\n",
       "      <td>2010-05-19</td>\n",
       "      <td>NaN</td>\n",
       "      <td>16-25</td>\n",
       "      <td>Free time</td>\n",
       "      <td>Registered Interest</td>\n",
       "      <td>Contact by phone/internet</td>\n",
       "      <td>Appointment</td>\n",
       "      <td>Male</td>\n",
       "      <td>Zimbabwean</td>\n",
       "      <td>...</td>\n",
       "      <td>No</td>\n",
       "      <td>Cork</td>\n",
       "      <td>NaN</td>\n",
       "      <td>Internet Search</td>\n",
       "      <td>NaN</td>\n",
       "      <td>NaN</td>\n",
       "      <td>Ecdl -Coumputer course  retail experience kitc...</td>\n",
       "      <td>NaN</td>\n",
       "      <td>NaN</td>\n",
       "      <td>1</td>\n",
       "    </tr>\n",
       "    <tr>\n",
       "      <th>2</th>\n",
       "      <td>00QD000000NXhm2</td>\n",
       "      <td>2011-05-17</td>\n",
       "      <td>NaN</td>\n",
       "      <td>50-59</td>\n",
       "      <td>Work Experience</td>\n",
       "      <td>Registered</td>\n",
       "      <td>Contact by phone/internet</td>\n",
       "      <td>NaN</td>\n",
       "      <td>Female</td>\n",
       "      <td>Nigerian</td>\n",
       "      <td>...</td>\n",
       "      <td>No</td>\n",
       "      <td>South Dublin County</td>\n",
       "      <td>NaN</td>\n",
       "      <td>Internet Search</td>\n",
       "      <td>Administrative/Office work</td>\n",
       "      <td>Carers</td>\n",
       "      <td>Practical Care Skills\\nManual Handling Skills\\...</td>\n",
       "      <td>NaN</td>\n",
       "      <td>Dublin</td>\n",
       "      <td>2</td>\n",
       "    </tr>\n",
       "    <tr>\n",
       "      <th>3</th>\n",
       "      <td>00QD000000QoUOG</td>\n",
       "      <td>2011-11-17</td>\n",
       "      <td>NaN</td>\n",
       "      <td>26-35</td>\n",
       "      <td>Because I was asked</td>\n",
       "      <td>Registered</td>\n",
       "      <td>NaN</td>\n",
       "      <td>NaN</td>\n",
       "      <td>Male</td>\n",
       "      <td>Irish</td>\n",
       "      <td>...</td>\n",
       "      <td>Yes</td>\n",
       "      <td>Galway</td>\n",
       "      <td>NaN</td>\n",
       "      <td>Word of Mouth/Referred by another agency</td>\n",
       "      <td>NaN</td>\n",
       "      <td>NaN</td>\n",
       "      <td>Various.</td>\n",
       "      <td>NaN</td>\n",
       "      <td>NaN</td>\n",
       "      <td>3</td>\n",
       "    </tr>\n",
       "    <tr>\n",
       "      <th>4</th>\n",
       "      <td>00QD000000Uye1D</td>\n",
       "      <td>2012-07-04</td>\n",
       "      <td>NaN</td>\n",
       "      <td>26-35</td>\n",
       "      <td>Free time</td>\n",
       "      <td>Registered</td>\n",
       "      <td>Contact by phone/internet</td>\n",
       "      <td>NaN</td>\n",
       "      <td>Female</td>\n",
       "      <td>Irish</td>\n",
       "      <td>...</td>\n",
       "      <td>No</td>\n",
       "      <td>South Dublin County</td>\n",
       "      <td>NaN</td>\n",
       "      <td>Word of Mouth/Referred by another agency</td>\n",
       "      <td>NaN</td>\n",
       "      <td>NaN</td>\n",
       "      <td>I have worked in administration in the offices...</td>\n",
       "      <td>NaN</td>\n",
       "      <td>NaN</td>\n",
       "      <td>4</td>\n",
       "    </tr>\n",
       "  </tbody>\n",
       "</table>\n",
       "<p>5 rows × 22 columns</p>\n",
       "</div>"
      ],
      "text/plain": [
       "  vol_volunteer_id vol_create_date vol_how_long_do_you_wish_to_volunteer_for  \\\n",
       "0  00Q2000000E7wXL      2009-11-09                                       NaN   \n",
       "1  00Q2000000Hl336      2010-05-19                                       NaN   \n",
       "2  00QD000000NXhm2      2011-05-17                                       NaN   \n",
       "3  00QD000000QoUOG      2011-11-17                                       NaN   \n",
       "4  00QD000000Uye1D      2012-07-04                                       NaN   \n",
       "\n",
       "  vol_age_group vol_why_do_you_want_to_volunteer_now vol_volunteer_status  \\\n",
       "0         36-49              Recently made redundant           Registered   \n",
       "1         16-25                            Free time  Registered Interest   \n",
       "2         50-59                      Work Experience           Registered   \n",
       "3         26-35                  Because I was asked           Registered   \n",
       "4         26-35                            Free time           Registered   \n",
       "\n",
       "  vol_method_of_contact_with_volunteer vol_face_to_face vol_gender  \\\n",
       "0                                  NaN              NaN       Male   \n",
       "1            Contact by phone/internet      Appointment       Male   \n",
       "2            Contact by phone/internet              NaN     Female   \n",
       "3                                  NaN              NaN       Male   \n",
       "4            Contact by phone/internet              NaN     Female   \n",
       "\n",
       "  vol_nationality  ...   vol_volunteered_before vol_volunteer_bureau  \\\n",
       "0           Irish  ...                       No               Galway   \n",
       "1      Zimbabwean  ...                       No                 Cork   \n",
       "2        Nigerian  ...                       No  South Dublin County   \n",
       "3           Irish  ...                      Yes               Galway   \n",
       "4           Irish  ...                       No  South Dublin County   \n",
       "\n",
       "  vol_local_area__dublin          vol_volunteer_recruitment_method  \\\n",
       "0                    NaN                           Internet Search   \n",
       "1                    NaN                           Internet Search   \n",
       "2                    NaN                           Internet Search   \n",
       "3                    NaN  Word of Mouth/Referred by another agency   \n",
       "4                    NaN  Word of Mouth/Referred by another agency   \n",
       "\n",
       "  vol_activity_you_are_interested_in vol_cause_you_are_interested_in  \\\n",
       "0                                NaN                             NaN   \n",
       "1                                NaN                             NaN   \n",
       "2         Administrative/Office work                          Carers   \n",
       "3                                NaN                             NaN   \n",
       "4                                NaN                             NaN   \n",
       "\n",
       "                                vol_skills_qualities vol_skills_profile  \\\n",
       "0  Worked in computer support for over 11 years, ...                NaN   \n",
       "1  Ecdl -Coumputer course  retail experience kitc...                NaN   \n",
       "2  Practical Care Skills\\nManual Handling Skills\\...                NaN   \n",
       "3                                           Various.                NaN   \n",
       "4  I have worked in administration in the offices...                NaN   \n",
       "\n",
       "  vol_county vol_id  \n",
       "0        NaN      0  \n",
       "1        NaN      1  \n",
       "2     Dublin      2  \n",
       "3        NaN      3  \n",
       "4        NaN      4  \n",
       "\n",
       "[5 rows x 22 columns]"
      ]
     },
     "execution_count": 10,
     "metadata": {},
     "output_type": "execute_result"
    }
   ],
   "source": [
    "dfvol = pd.read_excel('data/df_vol.xlsx')\n",
    "dfvol.rename(columns=lambda x: 'vol_{}'.format('_'.join([y.strip(string.punctuation) for y in x.lower().split()])), inplace=True)\n",
    "dfvol['vol_id'] = np.arange(dfvol.shape[0])\n",
    "print(dfvol.shape)\n",
    "dfvol.head()"
   ]
  },
  {
   "cell_type": "markdown",
   "metadata": {},
   "source": [
    "---\n",
    "\n",
    "---"
   ]
  },
  {
   "cell_type": "markdown",
   "metadata": {},
   "source": [
    "## Create 2 denormalised tables based on workflow\n",
    "\n",
    "# Opportunities -> Applications"
   ]
  },
  {
   "cell_type": "markdown",
   "metadata": {},
   "source": [
    "## 1. Join org info onto opportunities"
   ]
  },
  {
   "cell_type": "code",
   "execution_count": 11,
   "metadata": {
    "collapsed": false
   },
   "outputs": [
    {
     "name": "stdout",
     "output_type": "stream",
     "text": [
      "(35494, 5)\n"
     ]
    },
    {
     "data": {
      "text/html": [
       "<div style=\"max-height:1000px;max-width:1500px;overflow:auto;\">\n",
       "<table border=\"1\" class=\"dataframe\">\n",
       "  <thead>\n",
       "    <tr style=\"text-align: right;\">\n",
       "      <th></th>\n",
       "      <th>35489</th>\n",
       "      <th>35490</th>\n",
       "      <th>35491</th>\n",
       "      <th>35492</th>\n",
       "      <th>35493</th>\n",
       "    </tr>\n",
       "  </thead>\n",
       "  <tbody>\n",
       "    <tr>\n",
       "      <th>opp_id</th>\n",
       "      <td>35489</td>\n",
       "      <td>35490</td>\n",
       "      <td>35491</td>\n",
       "      <td>35492</td>\n",
       "      <td>35493</td>\n",
       "    </tr>\n",
       "    <tr>\n",
       "      <th>opp_organisation_id</th>\n",
       "      <td>00120000002IssF</td>\n",
       "      <td>00120000002IssF</td>\n",
       "      <td>00120000002IssF</td>\n",
       "      <td>00120000002IssF</td>\n",
       "      <td>00120000002IeNA</td>\n",
       "    </tr>\n",
       "    <tr>\n",
       "      <th>opp_volunteer_opportunity_id</th>\n",
       "      <td>a0020000008JCru</td>\n",
       "      <td>a0020000008JCrQ</td>\n",
       "      <td>a002000000ECPC7</td>\n",
       "      <td>a0020000000PEhI</td>\n",
       "      <td>a0020000000PEeJ</td>\n",
       "    </tr>\n",
       "    <tr>\n",
       "      <th>org_id</th>\n",
       "      <td>NaN</td>\n",
       "      <td>NaN</td>\n",
       "      <td>NaN</td>\n",
       "      <td>NaN</td>\n",
       "      <td>NaN</td>\n",
       "    </tr>\n",
       "    <tr>\n",
       "      <th>org_organisation_id</th>\n",
       "      <td>NaN</td>\n",
       "      <td>NaN</td>\n",
       "      <td>NaN</td>\n",
       "      <td>NaN</td>\n",
       "      <td>NaN</td>\n",
       "    </tr>\n",
       "  </tbody>\n",
       "</table>\n",
       "</div>"
      ],
      "text/plain": [
       "                                        35489            35490  \\\n",
       "opp_id                                  35489            35490   \n",
       "opp_organisation_id           00120000002IssF  00120000002IssF   \n",
       "opp_volunteer_opportunity_id  a0020000008JCru  a0020000008JCrQ   \n",
       "org_id                                    NaN              NaN   \n",
       "org_organisation_id                       NaN              NaN   \n",
       "\n",
       "                                        35491            35492  \\\n",
       "opp_id                                  35491            35492   \n",
       "opp_organisation_id           00120000002IssF  00120000002IssF   \n",
       "opp_volunteer_opportunity_id  a002000000ECPC7  a0020000000PEhI   \n",
       "org_id                                    NaN              NaN   \n",
       "org_organisation_id                       NaN              NaN   \n",
       "\n",
       "                                        35493  \n",
       "opp_id                                  35493  \n",
       "opp_organisation_id           00120000002IeNA  \n",
       "opp_volunteer_opportunity_id  a0020000000PEeJ  \n",
       "org_id                                    NaN  \n",
       "org_organisation_id                       NaN  "
      ]
     },
     "execution_count": 11,
     "metadata": {},
     "output_type": "execute_result"
    }
   ],
   "source": [
    "df1 = pd.merge(dfoppsaltm[['opp_id','opp_organisation_id','opp_volunteer_opportunity_id']]\n",
    "               ,dforgs[['org_id','org_organisation_id']]\n",
    "               ,how='left', left_on='opp_organisation_id', right_on='org_organisation_id')\n",
    "print(df1.shape)\n",
    "df1.tail().T"
   ]
  },
  {
   "cell_type": "markdown",
   "metadata": {},
   "source": [
    "## 2. Join applications onto opportunities"
   ]
  },
  {
   "cell_type": "code",
   "execution_count": 12,
   "metadata": {
    "collapsed": false
   },
   "outputs": [
    {
     "name": "stdout",
     "output_type": "stream",
     "text": [
      "(128023, 8)\n"
     ]
    },
    {
     "data": {
      "text/html": [
       "<div style=\"max-height:1000px;max-width:1500px;overflow:auto;\">\n",
       "<table border=\"1\" class=\"dataframe\">\n",
       "  <thead>\n",
       "    <tr style=\"text-align: right;\">\n",
       "      <th></th>\n",
       "      <th>128018</th>\n",
       "      <th>128019</th>\n",
       "      <th>128020</th>\n",
       "      <th>128021</th>\n",
       "      <th>128022</th>\n",
       "    </tr>\n",
       "  </thead>\n",
       "  <tbody>\n",
       "    <tr>\n",
       "      <th>opp_id</th>\n",
       "      <td>35492</td>\n",
       "      <td>35492</td>\n",
       "      <td>35492</td>\n",
       "      <td>35492</td>\n",
       "      <td>35493</td>\n",
       "    </tr>\n",
       "    <tr>\n",
       "      <th>opp_organisation_id</th>\n",
       "      <td>00120000002IssF</td>\n",
       "      <td>00120000002IssF</td>\n",
       "      <td>00120000002IssF</td>\n",
       "      <td>00120000002IssF</td>\n",
       "      <td>00120000002IeNA</td>\n",
       "    </tr>\n",
       "    <tr>\n",
       "      <th>opp_volunteer_opportunity_id</th>\n",
       "      <td>a0020000000PEhI</td>\n",
       "      <td>a0020000000PEhI</td>\n",
       "      <td>a0020000000PEhI</td>\n",
       "      <td>a0020000000PEhI</td>\n",
       "      <td>a0020000000PEeJ</td>\n",
       "    </tr>\n",
       "    <tr>\n",
       "      <th>org_id</th>\n",
       "      <td>NaN</td>\n",
       "      <td>NaN</td>\n",
       "      <td>NaN</td>\n",
       "      <td>NaN</td>\n",
       "      <td>NaN</td>\n",
       "    </tr>\n",
       "    <tr>\n",
       "      <th>org_organisation_id</th>\n",
       "      <td>NaN</td>\n",
       "      <td>NaN</td>\n",
       "      <td>NaN</td>\n",
       "      <td>NaN</td>\n",
       "      <td>NaN</td>\n",
       "    </tr>\n",
       "    <tr>\n",
       "      <th>app_id</th>\n",
       "      <td>102944</td>\n",
       "      <td>103806</td>\n",
       "      <td>104935</td>\n",
       "      <td>106134</td>\n",
       "      <td>NaN</td>\n",
       "    </tr>\n",
       "    <tr>\n",
       "      <th>app_vop_name</th>\n",
       "      <td>a0020000000PEhI</td>\n",
       "      <td>a0020000000PEhI</td>\n",
       "      <td>a0020000000PEhI</td>\n",
       "      <td>a0020000000PEhI</td>\n",
       "      <td>NaN</td>\n",
       "    </tr>\n",
       "    <tr>\n",
       "      <th>app_volunteer_volunteer_id</th>\n",
       "      <td>00QD000000RvcVQ</td>\n",
       "      <td>00QD000000RvJXt</td>\n",
       "      <td>00QD000000RuIxl</td>\n",
       "      <td>00QD000000RtxX8</td>\n",
       "      <td>NaN</td>\n",
       "    </tr>\n",
       "  </tbody>\n",
       "</table>\n",
       "</div>"
      ],
      "text/plain": [
       "                                       128018           128019  \\\n",
       "opp_id                                  35492            35492   \n",
       "opp_organisation_id           00120000002IssF  00120000002IssF   \n",
       "opp_volunteer_opportunity_id  a0020000000PEhI  a0020000000PEhI   \n",
       "org_id                                    NaN              NaN   \n",
       "org_organisation_id                       NaN              NaN   \n",
       "app_id                                 102944           103806   \n",
       "app_vop_name                  a0020000000PEhI  a0020000000PEhI   \n",
       "app_volunteer_volunteer_id    00QD000000RvcVQ  00QD000000RvJXt   \n",
       "\n",
       "                                       128020           128021  \\\n",
       "opp_id                                  35492            35492   \n",
       "opp_organisation_id           00120000002IssF  00120000002IssF   \n",
       "opp_volunteer_opportunity_id  a0020000000PEhI  a0020000000PEhI   \n",
       "org_id                                    NaN              NaN   \n",
       "org_organisation_id                       NaN              NaN   \n",
       "app_id                                 104935           106134   \n",
       "app_vop_name                  a0020000000PEhI  a0020000000PEhI   \n",
       "app_volunteer_volunteer_id    00QD000000RuIxl  00QD000000RtxX8   \n",
       "\n",
       "                                       128022  \n",
       "opp_id                                  35493  \n",
       "opp_organisation_id           00120000002IeNA  \n",
       "opp_volunteer_opportunity_id  a0020000000PEeJ  \n",
       "org_id                                    NaN  \n",
       "org_organisation_id                       NaN  \n",
       "app_id                                    NaN  \n",
       "app_vop_name                              NaN  \n",
       "app_volunteer_volunteer_id                NaN  "
      ]
     },
     "execution_count": 12,
     "metadata": {},
     "output_type": "execute_result"
    }
   ],
   "source": [
    "df2 = pd.merge(df1\n",
    "               ,dfoppsapfr[['app_id','app_vop_name','app_volunteer_volunteer_id']]\n",
    "               , how='left', left_on='opp_volunteer_opportunity_id', right_on='app_vop_name')\n",
    "print(df2.shape)\n",
    "df2.tail().T"
   ]
  },
  {
   "cell_type": "markdown",
   "metadata": {},
   "source": [
    "## 3. Join volunteers onto applications"
   ]
  },
  {
   "cell_type": "code",
   "execution_count": 13,
   "metadata": {
    "collapsed": false
   },
   "outputs": [
    {
     "name": "stdout",
     "output_type": "stream",
     "text": [
      "(128023, 10)\n"
     ]
    },
    {
     "data": {
      "text/html": [
       "<div style=\"max-height:1000px;max-width:1500px;overflow:auto;\">\n",
       "<table border=\"1\" class=\"dataframe\">\n",
       "  <thead>\n",
       "    <tr style=\"text-align: right;\">\n",
       "      <th></th>\n",
       "      <th>128018</th>\n",
       "      <th>128019</th>\n",
       "      <th>128020</th>\n",
       "      <th>128021</th>\n",
       "      <th>128022</th>\n",
       "    </tr>\n",
       "  </thead>\n",
       "  <tbody>\n",
       "    <tr>\n",
       "      <th>opp_id</th>\n",
       "      <td>35492</td>\n",
       "      <td>35492</td>\n",
       "      <td>35492</td>\n",
       "      <td>35492</td>\n",
       "      <td>35493</td>\n",
       "    </tr>\n",
       "    <tr>\n",
       "      <th>opp_organisation_id</th>\n",
       "      <td>00120000002IssF</td>\n",
       "      <td>00120000002IssF</td>\n",
       "      <td>00120000002IssF</td>\n",
       "      <td>00120000002IssF</td>\n",
       "      <td>00120000002IeNA</td>\n",
       "    </tr>\n",
       "    <tr>\n",
       "      <th>opp_volunteer_opportunity_id</th>\n",
       "      <td>a0020000000PEhI</td>\n",
       "      <td>a0020000000PEhI</td>\n",
       "      <td>a0020000000PEhI</td>\n",
       "      <td>a0020000000PEhI</td>\n",
       "      <td>a0020000000PEeJ</td>\n",
       "    </tr>\n",
       "    <tr>\n",
       "      <th>org_id</th>\n",
       "      <td>NaN</td>\n",
       "      <td>NaN</td>\n",
       "      <td>NaN</td>\n",
       "      <td>NaN</td>\n",
       "      <td>NaN</td>\n",
       "    </tr>\n",
       "    <tr>\n",
       "      <th>org_organisation_id</th>\n",
       "      <td>NaN</td>\n",
       "      <td>NaN</td>\n",
       "      <td>NaN</td>\n",
       "      <td>NaN</td>\n",
       "      <td>NaN</td>\n",
       "    </tr>\n",
       "    <tr>\n",
       "      <th>app_id</th>\n",
       "      <td>102944</td>\n",
       "      <td>103806</td>\n",
       "      <td>104935</td>\n",
       "      <td>106134</td>\n",
       "      <td>NaN</td>\n",
       "    </tr>\n",
       "    <tr>\n",
       "      <th>app_vop_name</th>\n",
       "      <td>a0020000000PEhI</td>\n",
       "      <td>a0020000000PEhI</td>\n",
       "      <td>a0020000000PEhI</td>\n",
       "      <td>a0020000000PEhI</td>\n",
       "      <td>NaN</td>\n",
       "    </tr>\n",
       "    <tr>\n",
       "      <th>app_volunteer_volunteer_id</th>\n",
       "      <td>00QD000000RvcVQ</td>\n",
       "      <td>00QD000000RvJXt</td>\n",
       "      <td>00QD000000RuIxl</td>\n",
       "      <td>00QD000000RtxX8</td>\n",
       "      <td>NaN</td>\n",
       "    </tr>\n",
       "    <tr>\n",
       "      <th>vol_id_app</th>\n",
       "      <td>64135</td>\n",
       "      <td>11658</td>\n",
       "      <td>55262</td>\n",
       "      <td>67205</td>\n",
       "      <td>NaN</td>\n",
       "    </tr>\n",
       "    <tr>\n",
       "      <th>vol_volunteer_id_app</th>\n",
       "      <td>00QD000000RvcVQ</td>\n",
       "      <td>00QD000000RvJXt</td>\n",
       "      <td>00QD000000RuIxl</td>\n",
       "      <td>00QD000000RtxX8</td>\n",
       "      <td>NaN</td>\n",
       "    </tr>\n",
       "  </tbody>\n",
       "</table>\n",
       "</div>"
      ],
      "text/plain": [
       "                                       128018           128019  \\\n",
       "opp_id                                  35492            35492   \n",
       "opp_organisation_id           00120000002IssF  00120000002IssF   \n",
       "opp_volunteer_opportunity_id  a0020000000PEhI  a0020000000PEhI   \n",
       "org_id                                    NaN              NaN   \n",
       "org_organisation_id                       NaN              NaN   \n",
       "app_id                                 102944           103806   \n",
       "app_vop_name                  a0020000000PEhI  a0020000000PEhI   \n",
       "app_volunteer_volunteer_id    00QD000000RvcVQ  00QD000000RvJXt   \n",
       "vol_id_app                              64135            11658   \n",
       "vol_volunteer_id_app          00QD000000RvcVQ  00QD000000RvJXt   \n",
       "\n",
       "                                       128020           128021  \\\n",
       "opp_id                                  35492            35492   \n",
       "opp_organisation_id           00120000002IssF  00120000002IssF   \n",
       "opp_volunteer_opportunity_id  a0020000000PEhI  a0020000000PEhI   \n",
       "org_id                                    NaN              NaN   \n",
       "org_organisation_id                       NaN              NaN   \n",
       "app_id                                 104935           106134   \n",
       "app_vop_name                  a0020000000PEhI  a0020000000PEhI   \n",
       "app_volunteer_volunteer_id    00QD000000RuIxl  00QD000000RtxX8   \n",
       "vol_id_app                              55262            67205   \n",
       "vol_volunteer_id_app          00QD000000RuIxl  00QD000000RtxX8   \n",
       "\n",
       "                                       128022  \n",
       "opp_id                                  35493  \n",
       "opp_organisation_id           00120000002IeNA  \n",
       "opp_volunteer_opportunity_id  a0020000000PEeJ  \n",
       "org_id                                    NaN  \n",
       "org_organisation_id                       NaN  \n",
       "app_id                                    NaN  \n",
       "app_vop_name                              NaN  \n",
       "app_volunteer_volunteer_id                NaN  \n",
       "vol_id_app                                NaN  \n",
       "vol_volunteer_id_app                      NaN  "
      ]
     },
     "execution_count": 13,
     "metadata": {},
     "output_type": "execute_result"
    }
   ],
   "source": [
    "dfvol_apfr = dfvol.copy()\n",
    "dfvol_apfr.rename(columns={'vol_id':'vol_id_app','vol_volunteer_id':'vol_volunteer_id_app'}\n",
    "                  , inplace=True)\n",
    "\n",
    "df3 = pd.merge(df2\n",
    "               ,dfvol_apfr[['vol_id_app','vol_volunteer_id_app']]\n",
    "               ,how='left', left_on='app_volunteer_volunteer_id', right_on='vol_volunteer_id_app')\n",
    "print(df3.shape)\n",
    "df3.tail().T"
   ]
  },
  {
   "cell_type": "code",
   "execution_count": 14,
   "metadata": {
    "collapsed": true
   },
   "outputs": [],
   "source": [
    "dfapplications = df3.copy()"
   ]
  },
  {
   "cell_type": "markdown",
   "metadata": {},
   "source": [
    "---"
   ]
  },
  {
   "cell_type": "markdown",
   "metadata": {},
   "source": [
    "# Opportunities -> Placements"
   ]
  },
  {
   "cell_type": "markdown",
   "metadata": {},
   "source": [
    "## 1. Join org info onto opportunities"
   ]
  },
  {
   "cell_type": "code",
   "execution_count": 15,
   "metadata": {
    "collapsed": false
   },
   "outputs": [
    {
     "name": "stdout",
     "output_type": "stream",
     "text": [
      "(35494, 5)\n"
     ]
    },
    {
     "data": {
      "text/html": [
       "<div style=\"max-height:1000px;max-width:1500px;overflow:auto;\">\n",
       "<table border=\"1\" class=\"dataframe\">\n",
       "  <thead>\n",
       "    <tr style=\"text-align: right;\">\n",
       "      <th></th>\n",
       "      <th>35489</th>\n",
       "      <th>35490</th>\n",
       "      <th>35491</th>\n",
       "      <th>35492</th>\n",
       "      <th>35493</th>\n",
       "    </tr>\n",
       "  </thead>\n",
       "  <tbody>\n",
       "    <tr>\n",
       "      <th>opp_id</th>\n",
       "      <td>35489</td>\n",
       "      <td>35490</td>\n",
       "      <td>35491</td>\n",
       "      <td>35492</td>\n",
       "      <td>35493</td>\n",
       "    </tr>\n",
       "    <tr>\n",
       "      <th>opp_organisation_id</th>\n",
       "      <td>00120000002IssF</td>\n",
       "      <td>00120000002IssF</td>\n",
       "      <td>00120000002IssF</td>\n",
       "      <td>00120000002IssF</td>\n",
       "      <td>00120000002IeNA</td>\n",
       "    </tr>\n",
       "    <tr>\n",
       "      <th>opp_volunteer_opportunity_id</th>\n",
       "      <td>a0020000008JCru</td>\n",
       "      <td>a0020000008JCrQ</td>\n",
       "      <td>a002000000ECPC7</td>\n",
       "      <td>a0020000000PEhI</td>\n",
       "      <td>a0020000000PEeJ</td>\n",
       "    </tr>\n",
       "    <tr>\n",
       "      <th>org_id</th>\n",
       "      <td>NaN</td>\n",
       "      <td>NaN</td>\n",
       "      <td>NaN</td>\n",
       "      <td>NaN</td>\n",
       "      <td>NaN</td>\n",
       "    </tr>\n",
       "    <tr>\n",
       "      <th>org_organisation_id</th>\n",
       "      <td>NaN</td>\n",
       "      <td>NaN</td>\n",
       "      <td>NaN</td>\n",
       "      <td>NaN</td>\n",
       "      <td>NaN</td>\n",
       "    </tr>\n",
       "  </tbody>\n",
       "</table>\n",
       "</div>"
      ],
      "text/plain": [
       "                                        35489            35490  \\\n",
       "opp_id                                  35489            35490   \n",
       "opp_organisation_id           00120000002IssF  00120000002IssF   \n",
       "opp_volunteer_opportunity_id  a0020000008JCru  a0020000008JCrQ   \n",
       "org_id                                    NaN              NaN   \n",
       "org_organisation_id                       NaN              NaN   \n",
       "\n",
       "                                        35491            35492  \\\n",
       "opp_id                                  35491            35492   \n",
       "opp_organisation_id           00120000002IssF  00120000002IssF   \n",
       "opp_volunteer_opportunity_id  a002000000ECPC7  a0020000000PEhI   \n",
       "org_id                                    NaN              NaN   \n",
       "org_organisation_id                       NaN              NaN   \n",
       "\n",
       "                                        35493  \n",
       "opp_id                                  35493  \n",
       "opp_organisation_id           00120000002IeNA  \n",
       "opp_volunteer_opportunity_id  a0020000000PEeJ  \n",
       "org_id                                    NaN  \n",
       "org_organisation_id                       NaN  "
      ]
     },
     "execution_count": 15,
     "metadata": {},
     "output_type": "execute_result"
    }
   ],
   "source": [
    "df1 = pd.merge(dfoppsaltm[['opp_id','opp_organisation_id','opp_volunteer_opportunity_id']]\n",
    "               ,dforgs[['org_id','org_organisation_id']]\n",
    "               ,how='left', left_on='opp_organisation_id', right_on='org_organisation_id')\n",
    "print(df1.shape)\n",
    "df1.tail().T"
   ]
  },
  {
   "cell_type": "markdown",
   "metadata": {},
   "source": [
    "## 2. Join placements onto opportunities"
   ]
  },
  {
   "cell_type": "code",
   "execution_count": 16,
   "metadata": {
    "collapsed": false
   },
   "outputs": [
    {
     "name": "stdout",
     "output_type": "stream",
     "text": [
      "(62259, 8)\n"
     ]
    },
    {
     "data": {
      "text/html": [
       "<div style=\"max-height:1000px;max-width:1500px;overflow:auto;\">\n",
       "<table border=\"1\" class=\"dataframe\">\n",
       "  <thead>\n",
       "    <tr style=\"text-align: right;\">\n",
       "      <th></th>\n",
       "      <th>62254</th>\n",
       "      <th>62255</th>\n",
       "      <th>62256</th>\n",
       "      <th>62257</th>\n",
       "      <th>62258</th>\n",
       "    </tr>\n",
       "  </thead>\n",
       "  <tbody>\n",
       "    <tr>\n",
       "      <th>opp_id</th>\n",
       "      <td>35492</td>\n",
       "      <td>35492</td>\n",
       "      <td>35492</td>\n",
       "      <td>35492</td>\n",
       "      <td>35493</td>\n",
       "    </tr>\n",
       "    <tr>\n",
       "      <th>opp_organisation_id</th>\n",
       "      <td>00120000002IssF</td>\n",
       "      <td>00120000002IssF</td>\n",
       "      <td>00120000002IssF</td>\n",
       "      <td>00120000002IssF</td>\n",
       "      <td>00120000002IeNA</td>\n",
       "    </tr>\n",
       "    <tr>\n",
       "      <th>opp_volunteer_opportunity_id</th>\n",
       "      <td>a0020000000PEhI</td>\n",
       "      <td>a0020000000PEhI</td>\n",
       "      <td>a0020000000PEhI</td>\n",
       "      <td>a0020000000PEhI</td>\n",
       "      <td>a0020000000PEeJ</td>\n",
       "    </tr>\n",
       "    <tr>\n",
       "      <th>org_id</th>\n",
       "      <td>NaN</td>\n",
       "      <td>NaN</td>\n",
       "      <td>NaN</td>\n",
       "      <td>NaN</td>\n",
       "      <td>NaN</td>\n",
       "    </tr>\n",
       "    <tr>\n",
       "      <th>org_organisation_id</th>\n",
       "      <td>NaN</td>\n",
       "      <td>NaN</td>\n",
       "      <td>NaN</td>\n",
       "      <td>NaN</td>\n",
       "      <td>NaN</td>\n",
       "    </tr>\n",
       "    <tr>\n",
       "      <th>plc_id</th>\n",
       "      <td>15676</td>\n",
       "      <td>16379</td>\n",
       "      <td>16466</td>\n",
       "      <td>17186</td>\n",
       "      <td>NaN</td>\n",
       "    </tr>\n",
       "    <tr>\n",
       "      <th>plc_volunteer_opportunity_record_id</th>\n",
       "      <td>a0020000000PEhI</td>\n",
       "      <td>a0020000000PEhI</td>\n",
       "      <td>a0020000000PEhI</td>\n",
       "      <td>a0020000000PEhI</td>\n",
       "      <td>NaN</td>\n",
       "    </tr>\n",
       "    <tr>\n",
       "      <th>plc_volunteer_id</th>\n",
       "      <td>00QD000000Vwgmn</td>\n",
       "      <td>00Q20000001Rrkq</td>\n",
       "      <td>00Q200000025Waa</td>\n",
       "      <td>00Q200000025i0n</td>\n",
       "      <td>NaN</td>\n",
       "    </tr>\n",
       "  </tbody>\n",
       "</table>\n",
       "</div>"
      ],
      "text/plain": [
       "                                               62254            62255  \\\n",
       "opp_id                                         35492            35492   \n",
       "opp_organisation_id                  00120000002IssF  00120000002IssF   \n",
       "opp_volunteer_opportunity_id         a0020000000PEhI  a0020000000PEhI   \n",
       "org_id                                           NaN              NaN   \n",
       "org_organisation_id                              NaN              NaN   \n",
       "plc_id                                         15676            16379   \n",
       "plc_volunteer_opportunity_record_id  a0020000000PEhI  a0020000000PEhI   \n",
       "plc_volunteer_id                     00QD000000Vwgmn  00Q20000001Rrkq   \n",
       "\n",
       "                                               62256            62257  \\\n",
       "opp_id                                         35492            35492   \n",
       "opp_organisation_id                  00120000002IssF  00120000002IssF   \n",
       "opp_volunteer_opportunity_id         a0020000000PEhI  a0020000000PEhI   \n",
       "org_id                                           NaN              NaN   \n",
       "org_organisation_id                              NaN              NaN   \n",
       "plc_id                                         16466            17186   \n",
       "plc_volunteer_opportunity_record_id  a0020000000PEhI  a0020000000PEhI   \n",
       "plc_volunteer_id                     00Q200000025Waa  00Q200000025i0n   \n",
       "\n",
       "                                               62258  \n",
       "opp_id                                         35493  \n",
       "opp_organisation_id                  00120000002IeNA  \n",
       "opp_volunteer_opportunity_id         a0020000000PEeJ  \n",
       "org_id                                           NaN  \n",
       "org_organisation_id                              NaN  \n",
       "plc_id                                           NaN  \n",
       "plc_volunteer_opportunity_record_id              NaN  \n",
       "plc_volunteer_id                                 NaN  "
      ]
     },
     "execution_count": 16,
     "metadata": {},
     "output_type": "execute_result"
    }
   ],
   "source": [
    "df2 = pd.merge(df1\n",
    "               , dfplc[['plc_id','plc_volunteer_opportunity_record_id','plc_volunteer_id']]\n",
    "               , how='left'\n",
    "               , left_on='opp_volunteer_opportunity_id'\n",
    "               , right_on='plc_volunteer_opportunity_record_id')\n",
    "print(df2.shape)\n",
    "df2.tail().T"
   ]
  },
  {
   "cell_type": "markdown",
   "metadata": {},
   "source": [
    "## 3. Join volunteers onto placements"
   ]
  },
  {
   "cell_type": "code",
   "execution_count": 17,
   "metadata": {
    "collapsed": false
   },
   "outputs": [
    {
     "name": "stdout",
     "output_type": "stream",
     "text": [
      "(62259, 10)\n"
     ]
    },
    {
     "data": {
      "text/html": [
       "<div style=\"max-height:1000px;max-width:1500px;overflow:auto;\">\n",
       "<table border=\"1\" class=\"dataframe\">\n",
       "  <thead>\n",
       "    <tr style=\"text-align: right;\">\n",
       "      <th></th>\n",
       "      <th>62254</th>\n",
       "      <th>62255</th>\n",
       "      <th>62256</th>\n",
       "      <th>62257</th>\n",
       "      <th>62258</th>\n",
       "    </tr>\n",
       "  </thead>\n",
       "  <tbody>\n",
       "    <tr>\n",
       "      <th>opp_id</th>\n",
       "      <td>35492</td>\n",
       "      <td>35492</td>\n",
       "      <td>35492</td>\n",
       "      <td>35492</td>\n",
       "      <td>35493</td>\n",
       "    </tr>\n",
       "    <tr>\n",
       "      <th>opp_organisation_id</th>\n",
       "      <td>00120000002IssF</td>\n",
       "      <td>00120000002IssF</td>\n",
       "      <td>00120000002IssF</td>\n",
       "      <td>00120000002IssF</td>\n",
       "      <td>00120000002IeNA</td>\n",
       "    </tr>\n",
       "    <tr>\n",
       "      <th>opp_volunteer_opportunity_id</th>\n",
       "      <td>a0020000000PEhI</td>\n",
       "      <td>a0020000000PEhI</td>\n",
       "      <td>a0020000000PEhI</td>\n",
       "      <td>a0020000000PEhI</td>\n",
       "      <td>a0020000000PEeJ</td>\n",
       "    </tr>\n",
       "    <tr>\n",
       "      <th>org_id</th>\n",
       "      <td>NaN</td>\n",
       "      <td>NaN</td>\n",
       "      <td>NaN</td>\n",
       "      <td>NaN</td>\n",
       "      <td>NaN</td>\n",
       "    </tr>\n",
       "    <tr>\n",
       "      <th>org_organisation_id</th>\n",
       "      <td>NaN</td>\n",
       "      <td>NaN</td>\n",
       "      <td>NaN</td>\n",
       "      <td>NaN</td>\n",
       "      <td>NaN</td>\n",
       "    </tr>\n",
       "    <tr>\n",
       "      <th>plc_id</th>\n",
       "      <td>15676</td>\n",
       "      <td>16379</td>\n",
       "      <td>16466</td>\n",
       "      <td>17186</td>\n",
       "      <td>NaN</td>\n",
       "    </tr>\n",
       "    <tr>\n",
       "      <th>plc_volunteer_opportunity_record_id</th>\n",
       "      <td>a0020000000PEhI</td>\n",
       "      <td>a0020000000PEhI</td>\n",
       "      <td>a0020000000PEhI</td>\n",
       "      <td>a0020000000PEhI</td>\n",
       "      <td>NaN</td>\n",
       "    </tr>\n",
       "    <tr>\n",
       "      <th>plc_volunteer_id</th>\n",
       "      <td>00QD000000Vwgmn</td>\n",
       "      <td>00Q20000001Rrkq</td>\n",
       "      <td>00Q200000025Waa</td>\n",
       "      <td>00Q200000025i0n</td>\n",
       "      <td>NaN</td>\n",
       "    </tr>\n",
       "    <tr>\n",
       "      <th>vol_id_plc</th>\n",
       "      <td>46896</td>\n",
       "      <td>21517</td>\n",
       "      <td>21937</td>\n",
       "      <td>24163</td>\n",
       "      <td>NaN</td>\n",
       "    </tr>\n",
       "    <tr>\n",
       "      <th>vol_volunteer_id_plc</th>\n",
       "      <td>00QD000000Vwgmn</td>\n",
       "      <td>00Q20000001Rrkq</td>\n",
       "      <td>00Q200000025Waa</td>\n",
       "      <td>00Q200000025i0n</td>\n",
       "      <td>NaN</td>\n",
       "    </tr>\n",
       "  </tbody>\n",
       "</table>\n",
       "</div>"
      ],
      "text/plain": [
       "                                               62254            62255  \\\n",
       "opp_id                                         35492            35492   \n",
       "opp_organisation_id                  00120000002IssF  00120000002IssF   \n",
       "opp_volunteer_opportunity_id         a0020000000PEhI  a0020000000PEhI   \n",
       "org_id                                           NaN              NaN   \n",
       "org_organisation_id                              NaN              NaN   \n",
       "plc_id                                         15676            16379   \n",
       "plc_volunteer_opportunity_record_id  a0020000000PEhI  a0020000000PEhI   \n",
       "plc_volunteer_id                     00QD000000Vwgmn  00Q20000001Rrkq   \n",
       "vol_id_plc                                     46896            21517   \n",
       "vol_volunteer_id_plc                 00QD000000Vwgmn  00Q20000001Rrkq   \n",
       "\n",
       "                                               62256            62257  \\\n",
       "opp_id                                         35492            35492   \n",
       "opp_organisation_id                  00120000002IssF  00120000002IssF   \n",
       "opp_volunteer_opportunity_id         a0020000000PEhI  a0020000000PEhI   \n",
       "org_id                                           NaN              NaN   \n",
       "org_organisation_id                              NaN              NaN   \n",
       "plc_id                                         16466            17186   \n",
       "plc_volunteer_opportunity_record_id  a0020000000PEhI  a0020000000PEhI   \n",
       "plc_volunteer_id                     00Q200000025Waa  00Q200000025i0n   \n",
       "vol_id_plc                                     21937            24163   \n",
       "vol_volunteer_id_plc                 00Q200000025Waa  00Q200000025i0n   \n",
       "\n",
       "                                               62258  \n",
       "opp_id                                         35493  \n",
       "opp_organisation_id                  00120000002IeNA  \n",
       "opp_volunteer_opportunity_id         a0020000000PEeJ  \n",
       "org_id                                           NaN  \n",
       "org_organisation_id                              NaN  \n",
       "plc_id                                           NaN  \n",
       "plc_volunteer_opportunity_record_id              NaN  \n",
       "plc_volunteer_id                                 NaN  \n",
       "vol_id_plc                                       NaN  \n",
       "vol_volunteer_id_plc                             NaN  "
      ]
     },
     "execution_count": 17,
     "metadata": {},
     "output_type": "execute_result"
    }
   ],
   "source": [
    "dfvol_plc = dfvol.copy()\n",
    "dfvol_plc.rename(columns={'vol_id':'vol_id_plc','vol_volunteer_id':'vol_volunteer_id_plc'}, inplace=True)\n",
    "\n",
    "df3 = pd.merge(df2\n",
    "               ,dfvol_plc[['vol_id_plc','vol_volunteer_id_plc']]\n",
    "               ,how='left', left_on='plc_volunteer_id', right_on='vol_volunteer_id_plc')\n",
    "print(df3.shape)\n",
    "df3.tail().T"
   ]
  },
  {
   "cell_type": "code",
   "execution_count": 18,
   "metadata": {
    "collapsed": true
   },
   "outputs": [],
   "source": [
    "dfplacements = df3.copy()"
   ]
  },
  {
   "cell_type": "markdown",
   "metadata": {},
   "source": [
    "---"
   ]
  },
  {
   "cell_type": "markdown",
   "metadata": {},
   "source": [
    "# Write to DB"
   ]
  },
  {
   "cell_type": "markdown",
   "metadata": {
    "collapsed": true
   },
   "source": [
    "## Original Tables"
   ]
  },
  {
   "cell_type": "code",
   "execution_count": 33,
   "metadata": {
    "collapsed": false
   },
   "outputs": [],
   "source": [
    "dfoppsaltm.to_sql('dfopp', cnx, if_exists='replace')\n",
    "dforgs.to_sql('dforg', cnx, if_exists='replace')\n",
    "dfoppsapfr.to_sql('dfapp', cnx, if_exists='replace')\n",
    "dfplc.to_sql('dfplc', cnx, if_exists='replace')\n",
    "dfvol.to_sql('dfvol', cnx, if_exists='replace')"
   ]
  },
  {
   "cell_type": "markdown",
   "metadata": {},
   "source": [
    "## Joining Tables"
   ]
  },
  {
   "cell_type": "code",
   "execution_count": 34,
   "metadata": {
    "collapsed": true
   },
   "outputs": [],
   "source": [
    "dfapplications.to_sql('vi_merge_app', cnx, if_exists='replace')"
   ]
  },
  {
   "cell_type": "code",
   "execution_count": 35,
   "metadata": {
    "collapsed": true
   },
   "outputs": [],
   "source": [
    "dfplacements.to_sql('vi_merge_plc', cnx, if_exists='replace')"
   ]
  },
  {
   "cell_type": "markdown",
   "metadata": {},
   "source": [
    "## Full denormalised tables for ease of use"
   ]
  },
  {
   "cell_type": "markdown",
   "metadata": {},
   "source": [
    "#### Join opportunities info"
   ]
  },
  {
   "cell_type": "code",
   "execution_count": 22,
   "metadata": {
    "collapsed": false
   },
   "outputs": [
    {
     "name": "stdout",
     "output_type": "stream",
     "text": [
      "(128023, 38)\n"
     ]
    }
   ],
   "source": [
    "dfda = pd.merge(dfapplications, dfoppsaltm, how='left', left_on='opp_id', right_on='opp_id')\n",
    "print(dfda.shape)"
   ]
  },
  {
   "cell_type": "markdown",
   "metadata": {},
   "source": [
    "#### Join org info"
   ]
  },
  {
   "cell_type": "code",
   "execution_count": 23,
   "metadata": {
    "collapsed": false
   },
   "outputs": [
    {
     "name": "stdout",
     "output_type": "stream",
     "text": [
      "(128023, 53)\n"
     ]
    }
   ],
   "source": [
    "dfda = pd.merge(dfda, dforgs, how='left', left_on='org_id', right_on='org_id')\n",
    "print(dfda.shape)"
   ]
  },
  {
   "cell_type": "markdown",
   "metadata": {},
   "source": [
    "#### Join applications info"
   ]
  },
  {
   "cell_type": "code",
   "execution_count": 24,
   "metadata": {
    "collapsed": false
   },
   "outputs": [
    {
     "name": "stdout",
     "output_type": "stream",
     "text": [
      "(128023, 62)\n"
     ]
    }
   ],
   "source": [
    "dfda = pd.merge(dfda, dfoppsapfr, how='left', left_on='app_id', right_on='app_id')\n",
    "print(dfda.shape)"
   ]
  },
  {
   "cell_type": "markdown",
   "metadata": {},
   "source": [
    "#### Join info about the volunteer who made the application"
   ]
  },
  {
   "cell_type": "code",
   "execution_count": 25,
   "metadata": {
    "collapsed": false
   },
   "outputs": [
    {
     "name": "stdout",
     "output_type": "stream",
     "text": [
      "(128023, 84)\n"
     ]
    }
   ],
   "source": [
    "dfda = pd.merge(dfda, dfvol, how='left', left_on='vol_id_app', right_on='vol_id')\n",
    "print(dfda.shape)"
   ]
  },
  {
   "cell_type": "markdown",
   "metadata": {},
   "source": [
    "---"
   ]
  },
  {
   "cell_type": "markdown",
   "metadata": {},
   "source": [
    "#### Join opportunities info"
   ]
  },
  {
   "cell_type": "code",
   "execution_count": 26,
   "metadata": {
    "collapsed": false
   },
   "outputs": [
    {
     "name": "stdout",
     "output_type": "stream",
     "text": [
      "(62259, 38)\n"
     ]
    }
   ],
   "source": [
    "dfdp = pd.merge(dfplacements, dfoppsaltm, how='left', left_on='opp_id', right_on='opp_id')\n",
    "print(dfdp.shape)"
   ]
  },
  {
   "cell_type": "markdown",
   "metadata": {},
   "source": [
    "#### Join org info"
   ]
  },
  {
   "cell_type": "code",
   "execution_count": 27,
   "metadata": {
    "collapsed": false
   },
   "outputs": [
    {
     "name": "stdout",
     "output_type": "stream",
     "text": [
      "(62259, 53)\n"
     ]
    }
   ],
   "source": [
    "dfdp = pd.merge(dfdp, dforgs, how='left', left_on='org_id', right_on='org_id')\n",
    "print(dfdp.shape)"
   ]
  },
  {
   "cell_type": "markdown",
   "metadata": {},
   "source": [
    "#### Join opps info"
   ]
  },
  {
   "cell_type": "code",
   "execution_count": 28,
   "metadata": {
    "collapsed": false
   },
   "outputs": [
    {
     "name": "stdout",
     "output_type": "stream",
     "text": [
      "(62259, 64)\n"
     ]
    }
   ],
   "source": [
    "dfdp = pd.merge(dfdp, dfplc, how='left', left_on='plc_id', right_on='plc_id')\n",
    "print(dfdp.shape)"
   ]
  },
  {
   "cell_type": "markdown",
   "metadata": {},
   "source": [
    "#### Join info about the volunteer who was placed"
   ]
  },
  {
   "cell_type": "code",
   "execution_count": 29,
   "metadata": {
    "collapsed": false
   },
   "outputs": [
    {
     "name": "stdout",
     "output_type": "stream",
     "text": [
      "(62259, 86)\n"
     ]
    }
   ],
   "source": [
    "dfdp = pd.merge(dfdp, dfvol, how='left', left_on='vol_id_plc', right_on='vol_id')\n",
    "print(dfdp.shape)"
   ]
  },
  {
   "cell_type": "markdown",
   "metadata": {},
   "source": [
    "---"
   ]
  },
  {
   "cell_type": "code",
   "execution_count": 36,
   "metadata": {
    "collapsed": true
   },
   "outputs": [],
   "source": [
    "dfda.to_sql('full_denormalised_table_app', cnx, if_exists='replace')\n",
    "dfdp.to_sql('full_denormalised_table_plc', cnx, if_exists='replace')"
   ]
  },
  {
   "cell_type": "code",
   "execution_count": 31,
   "metadata": {
    "collapsed": false
   },
   "outputs": [],
   "source": [
    "dfda.to_csv('data/full_denormalised_table_app.csv')\n",
    "dfdp.to_csv('data/full_denormalised_table_plc.csv')"
   ]
  },
  {
   "cell_type": "markdown",
   "metadata": {},
   "source": [
    "---"
   ]
  }
 ],
 "metadata": {
  "kernelspec": {
   "display_name": "Python 3",
   "language": "python",
   "name": "python3"
  },
  "language_info": {
   "codemirror_mode": {
    "name": "ipython",
    "version": 3
   },
   "file_extension": ".py",
   "mimetype": "text/x-python",
   "name": "python",
   "nbconvert_exporter": "python",
   "pygments_lexer": "ipython3",
   "version": "3.4.3"
  }
 },
 "nbformat": 4,
 "nbformat_minor": 0
}
